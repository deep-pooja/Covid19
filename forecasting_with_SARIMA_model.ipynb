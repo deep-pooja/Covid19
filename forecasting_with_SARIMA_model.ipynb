{
  "nbformat": 4,
  "nbformat_minor": 0,
  "metadata": {
    "colab": {
      "name": "forecasting_with_SARIMA_model.ipynb",
      "provenance": [],
      "collapsed_sections": [],
      "authorship_tag": "ABX9TyPgqP+TaY08MjhHLsTlHaAh",
      "include_colab_link": true
    },
    "kernelspec": {
      "name": "python3",
      "display_name": "Python 3"
    }
  },
  "cells": [
    {
      "cell_type": "markdown",
      "metadata": {
        "id": "view-in-github",
        "colab_type": "text"
      },
      "source": [
        "<a href=\"https://colab.research.google.com/github/deepacefic/Covid19-Dashboard/blob/master/forecasting_with_SARIMA_model.ipynb\" target=\"_parent\"><img src=\"https://colab.research.google.com/assets/colab-badge.svg\" alt=\"Open In Colab\"/></a>"
      ]
    },
    {
      "cell_type": "code",
      "metadata": {
        "id": "HAuxyvuWtnuQ",
        "colab_type": "code",
        "colab": {
          "base_uri": "https://localhost:8080/",
          "height": 34
        },
        "outputId": "32255ed0-f2ee-468c-906f-41fc0a25e2a7"
      },
      "source": [
        "from sklearn import svm\n",
        "import pandas as pd\n",
        "import numpy as np\n",
        "from matplotlib import pyplot as plt\n",
        "from sklearn.model_selection import train_test_split\n",
        "from sklearn.preprocessing import StandardScaler\n",
        "import math\n",
        "from keras.models import Sequential\n",
        "from keras.layers import Dense\n",
        "from keras.layers import LSTM\n",
        "from sklearn.preprocessing import MinMaxScaler\n",
        "from sklearn.metrics import mean_squared_error\n",
        "%matplotlib inline"
      ],
      "execution_count": null,
      "outputs": [
        {
          "output_type": "stream",
          "text": [
            "Using TensorFlow backend.\n"
          ],
          "name": "stderr"
        }
      ]
    },
    {
      "cell_type": "code",
      "metadata": {
        "id": "cUqg_GN1t_AY",
        "colab_type": "code",
        "colab": {
          "base_uri": "https://localhost:8080/",
          "height": 204
        },
        "outputId": "669c15b4-9e8a-4f17-830d-f0393c787f3a"
      },
      "source": [
        "# loading the datsets\n",
        "d = pd.read_csv(r'/content/covid_19_dataL.csv')\n",
        "d.head()"
      ],
      "execution_count": null,
      "outputs": [
        {
          "output_type": "execute_result",
          "data": {
            "text/html": [
              "<div>\n",
              "<style scoped>\n",
              "    .dataframe tbody tr th:only-of-type {\n",
              "        vertical-align: middle;\n",
              "    }\n",
              "\n",
              "    .dataframe tbody tr th {\n",
              "        vertical-align: top;\n",
              "    }\n",
              "\n",
              "    .dataframe thead th {\n",
              "        text-align: right;\n",
              "    }\n",
              "</style>\n",
              "<table border=\"1\" class=\"dataframe\">\n",
              "  <thead>\n",
              "    <tr style=\"text-align: right;\">\n",
              "      <th></th>\n",
              "      <th>SNo</th>\n",
              "      <th>ObservationDate</th>\n",
              "      <th>Province/State</th>\n",
              "      <th>Country/Region</th>\n",
              "      <th>Last Update</th>\n",
              "      <th>Confirmed</th>\n",
              "      <th>Deaths</th>\n",
              "      <th>Recovered</th>\n",
              "    </tr>\n",
              "  </thead>\n",
              "  <tbody>\n",
              "    <tr>\n",
              "      <th>0</th>\n",
              "      <td>1</td>\n",
              "      <td>01/22/2020</td>\n",
              "      <td>Anhui</td>\n",
              "      <td>Mainland China</td>\n",
              "      <td>1/22/2020 17:00</td>\n",
              "      <td>1.0</td>\n",
              "      <td>0.0</td>\n",
              "      <td>0.0</td>\n",
              "    </tr>\n",
              "    <tr>\n",
              "      <th>1</th>\n",
              "      <td>2</td>\n",
              "      <td>01/22/2020</td>\n",
              "      <td>Beijing</td>\n",
              "      <td>Mainland China</td>\n",
              "      <td>1/22/2020 17:00</td>\n",
              "      <td>14.0</td>\n",
              "      <td>0.0</td>\n",
              "      <td>0.0</td>\n",
              "    </tr>\n",
              "    <tr>\n",
              "      <th>2</th>\n",
              "      <td>3</td>\n",
              "      <td>01/22/2020</td>\n",
              "      <td>Chongqing</td>\n",
              "      <td>Mainland China</td>\n",
              "      <td>1/22/2020 17:00</td>\n",
              "      <td>6.0</td>\n",
              "      <td>0.0</td>\n",
              "      <td>0.0</td>\n",
              "    </tr>\n",
              "    <tr>\n",
              "      <th>3</th>\n",
              "      <td>4</td>\n",
              "      <td>01/22/2020</td>\n",
              "      <td>Fujian</td>\n",
              "      <td>Mainland China</td>\n",
              "      <td>1/22/2020 17:00</td>\n",
              "      <td>1.0</td>\n",
              "      <td>0.0</td>\n",
              "      <td>0.0</td>\n",
              "    </tr>\n",
              "    <tr>\n",
              "      <th>4</th>\n",
              "      <td>5</td>\n",
              "      <td>01/22/2020</td>\n",
              "      <td>Gansu</td>\n",
              "      <td>Mainland China</td>\n",
              "      <td>1/22/2020 17:00</td>\n",
              "      <td>0.0</td>\n",
              "      <td>0.0</td>\n",
              "      <td>0.0</td>\n",
              "    </tr>\n",
              "  </tbody>\n",
              "</table>\n",
              "</div>"
            ],
            "text/plain": [
              "   SNo ObservationDate Province/State  ... Confirmed Deaths  Recovered\n",
              "0    1      01/22/2020          Anhui  ...       1.0    0.0        0.0\n",
              "1    2      01/22/2020        Beijing  ...      14.0    0.0        0.0\n",
              "2    3      01/22/2020      Chongqing  ...       6.0    0.0        0.0\n",
              "3    4      01/22/2020         Fujian  ...       1.0    0.0        0.0\n",
              "4    5      01/22/2020          Gansu  ...       0.0    0.0        0.0\n",
              "\n",
              "[5 rows x 8 columns]"
            ]
          },
          "metadata": {
            "tags": []
          },
          "execution_count": 2
        }
      ]
    },
    {
      "cell_type": "code",
      "metadata": {
        "id": "r8jKgcnVua7f",
        "colab_type": "code",
        "colab": {
          "base_uri": "https://localhost:8080/",
          "height": 419
        },
        "outputId": "97ea16e7-f614-423e-f400-f73552a130f8"
      },
      "source": [
        "#Group by :It is like pivid functionality\n",
        "d2 = d.groupby([\"ObservationDate\",\"Country/Region\",\"Province/State\"])[['ObservationDate','Province/State','Country/Region','Confirmed','Deaths','Recovered']]\n",
        "d2.head()"
      ],
      "execution_count": null,
      "outputs": [
        {
          "output_type": "execute_result",
          "data": {
            "text/html": [
              "<div>\n",
              "<style scoped>\n",
              "    .dataframe tbody tr th:only-of-type {\n",
              "        vertical-align: middle;\n",
              "    }\n",
              "\n",
              "    .dataframe tbody tr th {\n",
              "        vertical-align: top;\n",
              "    }\n",
              "\n",
              "    .dataframe thead th {\n",
              "        text-align: right;\n",
              "    }\n",
              "</style>\n",
              "<table border=\"1\" class=\"dataframe\">\n",
              "  <thead>\n",
              "    <tr style=\"text-align: right;\">\n",
              "      <th></th>\n",
              "      <th>ObservationDate</th>\n",
              "      <th>Province/State</th>\n",
              "      <th>Country/Region</th>\n",
              "      <th>Confirmed</th>\n",
              "      <th>Deaths</th>\n",
              "      <th>Recovered</th>\n",
              "    </tr>\n",
              "  </thead>\n",
              "  <tbody>\n",
              "    <tr>\n",
              "      <th>0</th>\n",
              "      <td>01/22/2020</td>\n",
              "      <td>Anhui</td>\n",
              "      <td>Mainland China</td>\n",
              "      <td>1.0</td>\n",
              "      <td>0.0</td>\n",
              "      <td>0.0</td>\n",
              "    </tr>\n",
              "    <tr>\n",
              "      <th>1</th>\n",
              "      <td>01/22/2020</td>\n",
              "      <td>Beijing</td>\n",
              "      <td>Mainland China</td>\n",
              "      <td>14.0</td>\n",
              "      <td>0.0</td>\n",
              "      <td>0.0</td>\n",
              "    </tr>\n",
              "    <tr>\n",
              "      <th>2</th>\n",
              "      <td>01/22/2020</td>\n",
              "      <td>Chongqing</td>\n",
              "      <td>Mainland China</td>\n",
              "      <td>6.0</td>\n",
              "      <td>0.0</td>\n",
              "      <td>0.0</td>\n",
              "    </tr>\n",
              "    <tr>\n",
              "      <th>3</th>\n",
              "      <td>01/22/2020</td>\n",
              "      <td>Fujian</td>\n",
              "      <td>Mainland China</td>\n",
              "      <td>1.0</td>\n",
              "      <td>0.0</td>\n",
              "      <td>0.0</td>\n",
              "    </tr>\n",
              "    <tr>\n",
              "      <th>4</th>\n",
              "      <td>01/22/2020</td>\n",
              "      <td>Gansu</td>\n",
              "      <td>Mainland China</td>\n",
              "      <td>0.0</td>\n",
              "      <td>0.0</td>\n",
              "      <td>0.0</td>\n",
              "    </tr>\n",
              "    <tr>\n",
              "      <th>...</th>\n",
              "      <td>...</td>\n",
              "      <td>...</td>\n",
              "      <td>...</td>\n",
              "      <td>...</td>\n",
              "      <td>...</td>\n",
              "      <td>...</td>\n",
              "    </tr>\n",
              "    <tr>\n",
              "      <th>42987</th>\n",
              "      <td>06/15/2020</td>\n",
              "      <td>Zacatecas</td>\n",
              "      <td>Mexico</td>\n",
              "      <td>550.0</td>\n",
              "      <td>58.0</td>\n",
              "      <td>324.0</td>\n",
              "    </tr>\n",
              "    <tr>\n",
              "      <th>42988</th>\n",
              "      <td>06/15/2020</td>\n",
              "      <td>Zakarpattia Oblast</td>\n",
              "      <td>Ukraine</td>\n",
              "      <td>1680.0</td>\n",
              "      <td>42.0</td>\n",
              "      <td>686.0</td>\n",
              "    </tr>\n",
              "    <tr>\n",
              "      <th>42989</th>\n",
              "      <td>06/15/2020</td>\n",
              "      <td>Zaporizhia Oblast</td>\n",
              "      <td>Ukraine</td>\n",
              "      <td>529.0</td>\n",
              "      <td>16.0</td>\n",
              "      <td>335.0</td>\n",
              "    </tr>\n",
              "    <tr>\n",
              "      <th>42990</th>\n",
              "      <td>06/15/2020</td>\n",
              "      <td>Zhejiang</td>\n",
              "      <td>Mainland China</td>\n",
              "      <td>1268.0</td>\n",
              "      <td>1.0</td>\n",
              "      <td>1267.0</td>\n",
              "    </tr>\n",
              "    <tr>\n",
              "      <th>42991</th>\n",
              "      <td>06/15/2020</td>\n",
              "      <td>Zhytomyr Oblast</td>\n",
              "      <td>Ukraine</td>\n",
              "      <td>1087.0</td>\n",
              "      <td>19.0</td>\n",
              "      <td>547.0</td>\n",
              "    </tr>\n",
              "  </tbody>\n",
              "</table>\n",
              "<p>24475 rows × 6 columns</p>\n",
              "</div>"
            ],
            "text/plain": [
              "      ObservationDate      Province/State  ... Deaths  Recovered\n",
              "0          01/22/2020               Anhui  ...    0.0        0.0\n",
              "1          01/22/2020             Beijing  ...    0.0        0.0\n",
              "2          01/22/2020           Chongqing  ...    0.0        0.0\n",
              "3          01/22/2020              Fujian  ...    0.0        0.0\n",
              "4          01/22/2020               Gansu  ...    0.0        0.0\n",
              "...               ...                 ...  ...    ...        ...\n",
              "42987      06/15/2020           Zacatecas  ...   58.0      324.0\n",
              "42988      06/15/2020  Zakarpattia Oblast  ...   42.0      686.0\n",
              "42989      06/15/2020   Zaporizhia Oblast  ...   16.0      335.0\n",
              "42990      06/15/2020            Zhejiang  ...    1.0     1267.0\n",
              "42991      06/15/2020     Zhytomyr Oblast  ...   19.0      547.0\n",
              "\n",
              "[24475 rows x 6 columns]"
            ]
          },
          "metadata": {
            "tags": []
          },
          "execution_count": 3
        }
      ]
    },
    {
      "cell_type": "markdown",
      "metadata": {
        "id": "wayYpW3f24eE",
        "colab_type": "text"
      },
      "source": [
        "we will forecast India's growing cases with SARIMA models"
      ]
    },
    {
      "cell_type": "code",
      "metadata": {
        "id": "zT-d1z9iufKO",
        "colab_type": "code",
        "colab": {
          "base_uri": "https://localhost:8080/",
          "height": 419
        },
        "outputId": "5ad63df2-4587-40f5-f446-1368087893f6"
      },
      "source": [
        "d.rename(columns={'Country/Region':'Country'},inplace=True)\n",
        "d.query('Country==\"India\"').groupby(\"ObservationDate\")[[\"Confirmed\",\"Deaths\",\"Recovered\"]].sum().reset_index()"
      ],
      "execution_count": null,
      "outputs": [
        {
          "output_type": "execute_result",
          "data": {
            "text/html": [
              "<div>\n",
              "<style scoped>\n",
              "    .dataframe tbody tr th:only-of-type {\n",
              "        vertical-align: middle;\n",
              "    }\n",
              "\n",
              "    .dataframe tbody tr th {\n",
              "        vertical-align: top;\n",
              "    }\n",
              "\n",
              "    .dataframe thead th {\n",
              "        text-align: right;\n",
              "    }\n",
              "</style>\n",
              "<table border=\"1\" class=\"dataframe\">\n",
              "  <thead>\n",
              "    <tr style=\"text-align: right;\">\n",
              "      <th></th>\n",
              "      <th>ObservationDate</th>\n",
              "      <th>Confirmed</th>\n",
              "      <th>Deaths</th>\n",
              "      <th>Recovered</th>\n",
              "    </tr>\n",
              "  </thead>\n",
              "  <tbody>\n",
              "    <tr>\n",
              "      <th>0</th>\n",
              "      <td>01/30/2020</td>\n",
              "      <td>1.0</td>\n",
              "      <td>0.0</td>\n",
              "      <td>0.0</td>\n",
              "    </tr>\n",
              "    <tr>\n",
              "      <th>1</th>\n",
              "      <td>01/31/2020</td>\n",
              "      <td>1.0</td>\n",
              "      <td>0.0</td>\n",
              "      <td>0.0</td>\n",
              "    </tr>\n",
              "    <tr>\n",
              "      <th>2</th>\n",
              "      <td>02/01/2020</td>\n",
              "      <td>1.0</td>\n",
              "      <td>0.0</td>\n",
              "      <td>0.0</td>\n",
              "    </tr>\n",
              "    <tr>\n",
              "      <th>3</th>\n",
              "      <td>02/02/2020</td>\n",
              "      <td>2.0</td>\n",
              "      <td>0.0</td>\n",
              "      <td>0.0</td>\n",
              "    </tr>\n",
              "    <tr>\n",
              "      <th>4</th>\n",
              "      <td>02/03/2020</td>\n",
              "      <td>3.0</td>\n",
              "      <td>0.0</td>\n",
              "      <td>0.0</td>\n",
              "    </tr>\n",
              "    <tr>\n",
              "      <th>...</th>\n",
              "      <td>...</td>\n",
              "      <td>...</td>\n",
              "      <td>...</td>\n",
              "      <td>...</td>\n",
              "    </tr>\n",
              "    <tr>\n",
              "      <th>133</th>\n",
              "      <td>06/11/2020</td>\n",
              "      <td>297535.0</td>\n",
              "      <td>8498.0</td>\n",
              "      <td>147195.0</td>\n",
              "    </tr>\n",
              "    <tr>\n",
              "      <th>134</th>\n",
              "      <td>06/12/2020</td>\n",
              "      <td>297535.0</td>\n",
              "      <td>8498.0</td>\n",
              "      <td>147195.0</td>\n",
              "    </tr>\n",
              "    <tr>\n",
              "      <th>135</th>\n",
              "      <td>06/13/2020</td>\n",
              "      <td>308993.0</td>\n",
              "      <td>8884.0</td>\n",
              "      <td>154330.0</td>\n",
              "    </tr>\n",
              "    <tr>\n",
              "      <th>136</th>\n",
              "      <td>06/14/2020</td>\n",
              "      <td>320922.0</td>\n",
              "      <td>9195.0</td>\n",
              "      <td>162379.0</td>\n",
              "    </tr>\n",
              "    <tr>\n",
              "      <th>137</th>\n",
              "      <td>06/15/2020</td>\n",
              "      <td>343091.0</td>\n",
              "      <td>9900.0</td>\n",
              "      <td>180013.0</td>\n",
              "    </tr>\n",
              "  </tbody>\n",
              "</table>\n",
              "<p>138 rows × 4 columns</p>\n",
              "</div>"
            ],
            "text/plain": [
              "    ObservationDate  Confirmed  Deaths  Recovered\n",
              "0        01/30/2020        1.0     0.0        0.0\n",
              "1        01/31/2020        1.0     0.0        0.0\n",
              "2        02/01/2020        1.0     0.0        0.0\n",
              "3        02/02/2020        2.0     0.0        0.0\n",
              "4        02/03/2020        3.0     0.0        0.0\n",
              "..              ...        ...     ...        ...\n",
              "133      06/11/2020   297535.0  8498.0   147195.0\n",
              "134      06/12/2020   297535.0  8498.0   147195.0\n",
              "135      06/13/2020   308993.0  8884.0   154330.0\n",
              "136      06/14/2020   320922.0  9195.0   162379.0\n",
              "137      06/15/2020   343091.0  9900.0   180013.0\n",
              "\n",
              "[138 rows x 4 columns]"
            ]
          },
          "metadata": {
            "tags": []
          },
          "execution_count": 4
        }
      ]
    },
    {
      "cell_type": "code",
      "metadata": {
        "id": "42HvNijAuf_B",
        "colab_type": "code",
        "colab": {
          "base_uri": "https://localhost:8080/",
          "height": 221
        },
        "outputId": "3a0a7930-478b-434f-cbe6-48388a2884c4"
      },
      "source": [
        "from fbprophet import Prophet\n",
        "daily_cases = d.loc[(d[\"Country\"]==\"India\") , [\"ObservationDate\",\"Confirmed\"]]\n",
        "daily_cases['ObservationDate'] = pd.to_datetime(daily_cases['ObservationDate'],dayfirst=True)\n",
        "print(daily_cases.shape)\n",
        "daily_cases.head()"
      ],
      "execution_count": null,
      "outputs": [
        {
          "output_type": "stream",
          "text": [
            "(348, 2)\n"
          ],
          "name": "stdout"
        },
        {
          "output_type": "execute_result",
          "data": {
            "text/html": [
              "<div>\n",
              "<style scoped>\n",
              "    .dataframe tbody tr th:only-of-type {\n",
              "        vertical-align: middle;\n",
              "    }\n",
              "\n",
              "    .dataframe tbody tr th {\n",
              "        vertical-align: top;\n",
              "    }\n",
              "\n",
              "    .dataframe thead th {\n",
              "        text-align: right;\n",
              "    }\n",
              "</style>\n",
              "<table border=\"1\" class=\"dataframe\">\n",
              "  <thead>\n",
              "    <tr style=\"text-align: right;\">\n",
              "      <th></th>\n",
              "      <th>ObservationDate</th>\n",
              "      <th>Confirmed</th>\n",
              "    </tr>\n",
              "  </thead>\n",
              "  <tbody>\n",
              "    <tr>\n",
              "      <th>430</th>\n",
              "      <td>2020-01-30</td>\n",
              "      <td>1.0</td>\n",
              "    </tr>\n",
              "    <tr>\n",
              "      <th>491</th>\n",
              "      <td>2020-01-31</td>\n",
              "      <td>1.0</td>\n",
              "    </tr>\n",
              "    <tr>\n",
              "      <th>547</th>\n",
              "      <td>2020-01-02</td>\n",
              "      <td>1.0</td>\n",
              "    </tr>\n",
              "    <tr>\n",
              "      <th>607</th>\n",
              "      <td>2020-02-02</td>\n",
              "      <td>2.0</td>\n",
              "    </tr>\n",
              "    <tr>\n",
              "      <th>672</th>\n",
              "      <td>2020-03-02</td>\n",
              "      <td>3.0</td>\n",
              "    </tr>\n",
              "  </tbody>\n",
              "</table>\n",
              "</div>"
            ],
            "text/plain": [
              "    ObservationDate  Confirmed\n",
              "430      2020-01-30        1.0\n",
              "491      2020-01-31        1.0\n",
              "547      2020-01-02        1.0\n",
              "607      2020-02-02        2.0\n",
              "672      2020-03-02        3.0"
            ]
          },
          "metadata": {
            "tags": []
          },
          "execution_count": 5
        }
      ]
    },
    {
      "cell_type": "code",
      "metadata": {
        "id": "W-DCZB91ukIU",
        "colab_type": "code",
        "colab": {}
      },
      "source": [
        "daily_cases.columns=['ds', 'y']"
      ],
      "execution_count": null,
      "outputs": []
    },
    {
      "cell_type": "code",
      "metadata": {
        "id": "WnRsEZndunN7",
        "colab_type": "code",
        "colab": {
          "base_uri": "https://localhost:8080/",
          "height": 235
        },
        "outputId": "4b54b90a-d0c2-465c-9e0b-4bf01f34f326"
      },
      "source": [
        "y = daily_cases.set_index(['ds']).sort_values(by=\"ds\")\n",
        "y.head()"
      ],
      "execution_count": null,
      "outputs": [
        {
          "output_type": "execute_result",
          "data": {
            "text/html": [
              "<div>\n",
              "<style scoped>\n",
              "    .dataframe tbody tr th:only-of-type {\n",
              "        vertical-align: middle;\n",
              "    }\n",
              "\n",
              "    .dataframe tbody tr th {\n",
              "        vertical-align: top;\n",
              "    }\n",
              "\n",
              "    .dataframe thead th {\n",
              "        text-align: right;\n",
              "    }\n",
              "</style>\n",
              "<table border=\"1\" class=\"dataframe\">\n",
              "  <thead>\n",
              "    <tr style=\"text-align: right;\">\n",
              "      <th></th>\n",
              "      <th>y</th>\n",
              "    </tr>\n",
              "    <tr>\n",
              "      <th>ds</th>\n",
              "      <th></th>\n",
              "    </tr>\n",
              "  </thead>\n",
              "  <tbody>\n",
              "    <tr>\n",
              "      <th>2020-01-02</th>\n",
              "      <td>1.0</td>\n",
              "    </tr>\n",
              "    <tr>\n",
              "      <th>2020-01-03</th>\n",
              "      <td>3.0</td>\n",
              "    </tr>\n",
              "    <tr>\n",
              "      <th>2020-01-04</th>\n",
              "      <td>1998.0</td>\n",
              "    </tr>\n",
              "    <tr>\n",
              "      <th>2020-01-05</th>\n",
              "      <td>37257.0</td>\n",
              "    </tr>\n",
              "    <tr>\n",
              "      <th>2020-01-06</th>\n",
              "      <td>198370.0</td>\n",
              "    </tr>\n",
              "  </tbody>\n",
              "</table>\n",
              "</div>"
            ],
            "text/plain": [
              "                   y\n",
              "ds                  \n",
              "2020-01-02       1.0\n",
              "2020-01-03       3.0\n",
              "2020-01-04    1998.0\n",
              "2020-01-05   37257.0\n",
              "2020-01-06  198370.0"
            ]
          },
          "metadata": {
            "tags": []
          },
          "execution_count": 7
        }
      ]
    },
    {
      "cell_type": "code",
      "metadata": {
        "id": "bRiyJ_UDuqqT",
        "colab_type": "code",
        "colab": {
          "base_uri": "https://localhost:8080/",
          "height": 265
        },
        "outputId": "61686ff6-1cf6-4c3a-f9a8-376c2624c7da"
      },
      "source": [
        "y.plot(figsize=(20,5))\n",
        "plt.show()"
      ],
      "execution_count": null,
      "outputs": [
        {
          "output_type": "display_data",
          "data": {
            "image/png": "[encoded data removed]",
            "text/plain": [
              "<Figure size 1440x360 with 1 Axes>"
            ]
          },
          "metadata": {
            "tags": [],
            "needs_background": "light"
          }
        }
      ]
    },
    {
      "cell_type": "code",
      "metadata": {
        "id": "5fZPz4-FuuPo",
        "colab_type": "code",
        "colab": {}
      },
      "source": [
        "import warnings\n",
        "import itertools\n",
        "p = d = q = range(0, 2)\n",
        "pdq = list(itertools.product(p, d, q))\n",
        "seasonal_pdq = [(x[0], x[1], x[2], 12) for x in list(itertools.product(p, d, q))]"
      ],
      "execution_count": null,
      "outputs": []
    },
    {
      "cell_type": "code",
      "metadata": {
        "id": "QVPmK7_Tuykc",
        "colab_type": "code",
        "colab": {
          "base_uri": "https://localhost:8080/",
          "height": 1000
        },
        "outputId": "e2dc02c4-5b9f-497d-cfc2-8c5adad72266"
      },
      "source": [
        "import statsmodels.api as sm\n",
        "for param in pdq:\n",
        "    for param_seasonal in seasonal_pdq:\n",
        "        model = sm.tsa.statespace.SARIMAX(y,order=param,seasonal_order=param_seasonal,enforce_stationarity=False,enforce_invertibility=False)\n",
        "        results = model.fit()\n",
        "        print('ARIMA{}x{}12 - AIC:{}'.format(param,param_seasonal,results.aic))"
      ],
      "execution_count": null,
      "outputs": [
        {
          "output_type": "stream",
          "text": [
            "/usr/local/lib/python3.6/dist-packages/statsmodels/tools/_testing.py:19: FutureWarning:\n",
            "\n",
            "pandas.util.testing is deprecated. Use the functions in the public API at pandas.testing instead.\n",
            "\n",
            "/usr/local/lib/python3.6/dist-packages/statsmodels/tsa/base/tsa_model.py:219: ValueWarning:\n",
            "\n",
            "A date index has been provided, but it has no associated frequency information and so will be ignored when e.g. forecasting.\n",
            "\n",
            "/usr/local/lib/python3.6/dist-packages/statsmodels/tsa/base/tsa_model.py:219: ValueWarning:\n",
            "\n",
            "A date index has been provided, but it has no associated frequency information and so will be ignored when e.g. forecasting.\n",
            "\n",
            "/usr/local/lib/python3.6/dist-packages/statsmodels/tsa/base/tsa_model.py:219: ValueWarning:\n",
            "\n",
            "A date index has been provided, but it has no associated frequency information and so will be ignored when e.g. forecasting.\n",
            "\n",
            "/usr/local/lib/python3.6/dist-packages/statsmodels/tsa/base/tsa_model.py:219: ValueWarning:\n",
            "\n",
            "A date index has been provided, but it has no associated frequency information and so will be ignored when e.g. forecasting.\n",
            "\n"
          ],
          "name": "stderr"
        },
        {
          "output_type": "stream",
          "text": [
            "ARIMA(0, 0, 0)x(0, 0, 0, 12)12 - AIC:8537.250031136558\n",
            "ARIMA(0, 0, 0)x(0, 0, 1, 12)12 - AIC:8204.596472030975\n",
            "ARIMA(0, 0, 0)x(0, 1, 0, 12)12 - AIC:8353.552405291965\n",
            "ARIMA(0, 0, 0)x(0, 1, 1, 12)12 - AIC:7918.284565018257\n",
            "ARIMA(0, 0, 0)x(1, 0, 0, 12)12 - AIC:8218.125541224268\n",
            "ARIMA(0, 0, 0)x(1, 0, 1, 12)12 - AIC:8182.85973001213\n"
          ],
          "name": "stdout"
        },
        {
          "output_type": "stream",
          "text": [
            "/usr/local/lib/python3.6/dist-packages/statsmodels/tsa/base/tsa_model.py:219: ValueWarning:\n",
            "\n",
            "A date index has been provided, but it has no associated frequency information and so will be ignored when e.g. forecasting.\n",
            "\n",
            "/usr/local/lib/python3.6/dist-packages/statsmodels/tsa/base/tsa_model.py:219: ValueWarning:\n",
            "\n",
            "A date index has been provided, but it has no associated frequency information and so will be ignored when e.g. forecasting.\n",
            "\n",
            "/usr/local/lib/python3.6/dist-packages/statsmodels/tsa/base/tsa_model.py:219: ValueWarning:\n",
            "\n",
            "A date index has been provided, but it has no associated frequency information and so will be ignored when e.g. forecasting.\n",
            "\n"
          ],
          "name": "stderr"
        },
        {
          "output_type": "stream",
          "text": [
            "ARIMA(0, 0, 0)x(1, 1, 0, 12)12 - AIC:7992.116143917598\n"
          ],
          "name": "stdout"
        },
        {
          "output_type": "stream",
          "text": [
            "/usr/local/lib/python3.6/dist-packages/statsmodels/tsa/base/tsa_model.py:219: ValueWarning:\n",
            "\n",
            "A date index has been provided, but it has no associated frequency information and so will be ignored when e.g. forecasting.\n",
            "\n"
          ],
          "name": "stderr"
        },
        {
          "output_type": "stream",
          "text": [
            "ARIMA(0, 0, 0)x(1, 1, 1, 12)12 - AIC:7905.465522928476\n",
            "ARIMA(0, 0, 1)x(0, 0, 0, 12)12 - AIC:8453.224400859988\n",
            "ARIMA(0, 0, 1)x(0, 0, 1, 12)12 - AIC:8130.608222411256\n",
            "ARIMA(0, 0, 1)x(0, 1, 0, 12)12 - AIC:8302.838437934946\n"
          ],
          "name": "stdout"
        },
        {
          "output_type": "stream",
          "text": [
            "/usr/local/lib/python3.6/dist-packages/statsmodels/tsa/base/tsa_model.py:219: ValueWarning:\n",
            "\n",
            "A date index has been provided, but it has no associated frequency information and so will be ignored when e.g. forecasting.\n",
            "\n",
            "/usr/local/lib/python3.6/dist-packages/statsmodels/tsa/base/tsa_model.py:219: ValueWarning:\n",
            "\n",
            "A date index has been provided, but it has no associated frequency information and so will be ignored when e.g. forecasting.\n",
            "\n",
            "/usr/local/lib/python3.6/dist-packages/statsmodels/tsa/base/tsa_model.py:219: ValueWarning:\n",
            "\n",
            "A date index has been provided, but it has no associated frequency information and so will be ignored when e.g. forecasting.\n",
            "\n",
            "/usr/local/lib/python3.6/dist-packages/statsmodels/tsa/base/tsa_model.py:219: ValueWarning:\n",
            "\n",
            "A date index has been provided, but it has no associated frequency information and so will be ignored when e.g. forecasting.\n",
            "\n"
          ],
          "name": "stderr"
        },
        {
          "output_type": "stream",
          "text": [
            "ARIMA(0, 0, 1)x(0, 1, 1, 12)12 - AIC:7875.03601672245\n",
            "ARIMA(0, 0, 1)x(1, 0, 0, 12)12 - AIC:8176.233032331013\n"
          ],
          "name": "stdout"
        },
        {
          "output_type": "stream",
          "text": [
            "/usr/local/lib/python3.6/dist-packages/statsmodels/tsa/base/tsa_model.py:219: ValueWarning:\n",
            "\n",
            "A date index has been provided, but it has no associated frequency information and so will be ignored when e.g. forecasting.\n",
            "\n",
            "/usr/local/lib/python3.6/dist-packages/statsmodels/tsa/base/tsa_model.py:219: ValueWarning:\n",
            "\n",
            "A date index has been provided, but it has no associated frequency information and so will be ignored when e.g. forecasting.\n",
            "\n"
          ],
          "name": "stderr"
        },
        {
          "output_type": "stream",
          "text": [
            "ARIMA(0, 0, 1)x(1, 0, 1, 12)12 - AIC:8121.03326535124\n"
          ],
          "name": "stdout"
        },
        {
          "output_type": "stream",
          "text": [
            "/usr/local/lib/python3.6/dist-packages/statsmodels/tsa/base/tsa_model.py:219: ValueWarning:\n",
            "\n",
            "A date index has been provided, but it has no associated frequency information and so will be ignored when e.g. forecasting.\n",
            "\n"
          ],
          "name": "stderr"
        },
        {
          "output_type": "stream",
          "text": [
            "ARIMA(0, 0, 1)x(1, 1, 0, 12)12 - AIC:7969.545076406099\n",
            "ARIMA(0, 0, 1)x(1, 1, 1, 12)12 - AIC:7873.656027528029\n",
            "ARIMA(0, 1, 0)x(0, 0, 0, 12)12 - AIC:8529.32714785884\n",
            "ARIMA(0, 1, 0)x(0, 0, 1, 12)12 - AIC:8198.65360917797\n",
            "ARIMA(0, 1, 0)x(0, 1, 0, 12)12 - AIC:8448.94594329097\n"
          ],
          "name": "stdout"
        },
        {
          "output_type": "stream",
          "text": [
            "/usr/local/lib/python3.6/dist-packages/statsmodels/tsa/base/tsa_model.py:219: ValueWarning:\n",
            "\n",
            "A date index has been provided, but it has no associated frequency information and so will be ignored when e.g. forecasting.\n",
            "\n",
            "/usr/local/lib/python3.6/dist-packages/statsmodels/tsa/base/tsa_model.py:219: ValueWarning:\n",
            "\n",
            "A date index has been provided, but it has no associated frequency information and so will be ignored when e.g. forecasting.\n",
            "\n",
            "/usr/local/lib/python3.6/dist-packages/statsmodels/tsa/base/tsa_model.py:219: ValueWarning:\n",
            "\n",
            "A date index has been provided, but it has no associated frequency information and so will be ignored when e.g. forecasting.\n",
            "\n",
            "/usr/local/lib/python3.6/dist-packages/statsmodels/tsa/base/tsa_model.py:219: ValueWarning:\n",
            "\n",
            "A date index has been provided, but it has no associated frequency information and so will be ignored when e.g. forecasting.\n",
            "\n",
            "/usr/local/lib/python3.6/dist-packages/statsmodels/tsa/base/tsa_model.py:219: ValueWarning:\n",
            "\n",
            "A date index has been provided, but it has no associated frequency information and so will be ignored when e.g. forecasting.\n",
            "\n"
          ],
          "name": "stderr"
        },
        {
          "output_type": "stream",
          "text": [
            "ARIMA(0, 1, 0)x(0, 1, 1, 12)12 - AIC:7946.576699237356\n",
            "ARIMA(0, 1, 0)x(1, 0, 0, 12)12 - AIC:8222.116508646743\n"
          ],
          "name": "stdout"
        },
        {
          "output_type": "stream",
          "text": [
            "/usr/local/lib/python3.6/dist-packages/statsmodels/tsa/base/tsa_model.py:219: ValueWarning:\n",
            "\n",
            "A date index has been provided, but it has no associated frequency information and so will be ignored when e.g. forecasting.\n",
            "\n",
            "/usr/local/lib/python3.6/dist-packages/statsmodels/tsa/base/tsa_model.py:219: ValueWarning:\n",
            "\n",
            "A date index has been provided, but it has no associated frequency information and so will be ignored when e.g. forecasting.\n",
            "\n"
          ],
          "name": "stderr"
        },
        {
          "output_type": "stream",
          "text": [
            "ARIMA(0, 1, 0)x(1, 0, 1, 12)12 - AIC:8199.51508222582\n",
            "ARIMA(0, 1, 0)x(1, 1, 0, 12)12 - AIC:8040.485938997725\n"
          ],
          "name": "stdout"
        },
        {
          "output_type": "stream",
          "text": [
            "/usr/local/lib/python3.6/dist-packages/statsmodels/tsa/base/tsa_model.py:219: ValueWarning:\n",
            "\n",
            "A date index has been provided, but it has no associated frequency information and so will be ignored when e.g. forecasting.\n",
            "\n",
            "/usr/local/lib/python3.6/dist-packages/statsmodels/tsa/base/tsa_model.py:219: ValueWarning:\n",
            "\n",
            "A date index has been provided, but it has no associated frequency information and so will be ignored when e.g. forecasting.\n",
            "\n"
          ],
          "name": "stderr"
        },
        {
          "output_type": "stream",
          "text": [
            "ARIMA(0, 1, 0)x(1, 1, 1, 12)12 - AIC:7926.566823056084\n",
            "ARIMA(0, 1, 1)x(0, 0, 0, 12)12 - AIC:8361.632851627157\n",
            "ARIMA(0, 1, 1)x(0, 0, 1, 12)12 - AIC:8043.778082617008\n"
          ],
          "name": "stdout"
        },
        {
          "output_type": "stream",
          "text": [
            "/usr/local/lib/python3.6/dist-packages/statsmodels/tsa/base/tsa_model.py:219: ValueWarning:\n",
            "\n",
            "A date index has been provided, but it has no associated frequency information and so will be ignored when e.g. forecasting.\n",
            "\n",
            "/usr/local/lib/python3.6/dist-packages/statsmodels/tsa/base/tsa_model.py:219: ValueWarning:\n",
            "\n",
            "A date index has been provided, but it has no associated frequency information and so will be ignored when e.g. forecasting.\n",
            "\n",
            "/usr/local/lib/python3.6/dist-packages/statsmodels/tsa/base/tsa_model.py:219: ValueWarning:\n",
            "\n",
            "A date index has been provided, but it has no associated frequency information and so will be ignored when e.g. forecasting.\n",
            "\n"
          ],
          "name": "stderr"
        },
        {
          "output_type": "stream",
          "text": [
            "ARIMA(0, 1, 1)x(0, 1, 0, 12)12 - AIC:8299.281205040978\n"
          ],
          "name": "stdout"
        },
        {
          "output_type": "stream",
          "text": [
            "/usr/local/lib/python3.6/dist-packages/statsmodels/tsa/base/tsa_model.py:219: ValueWarning:\n",
            "\n",
            "A date index has been provided, but it has no associated frequency information and so will be ignored when e.g. forecasting.\n",
            "\n"
          ],
          "name": "stderr"
        },
        {
          "output_type": "stream",
          "text": [
            "ARIMA(0, 1, 1)x(0, 1, 1, 12)12 - AIC:7849.341887202343\n",
            "ARIMA(0, 1, 1)x(1, 0, 0, 12)12 - AIC:8092.0084075305185\n"
          ],
          "name": "stdout"
        },
        {
          "output_type": "stream",
          "text": [
            "/usr/local/lib/python3.6/dist-packages/statsmodels/tsa/base/tsa_model.py:219: ValueWarning:\n",
            "\n",
            "A date index has been provided, but it has no associated frequency information and so will be ignored when e.g. forecasting.\n",
            "\n",
            "/usr/local/lib/python3.6/dist-packages/statsmodels/tsa/base/tsa_model.py:219: ValueWarning:\n",
            "\n",
            "A date index has been provided, but it has no associated frequency information and so will be ignored when e.g. forecasting.\n",
            "\n"
          ],
          "name": "stderr"
        },
        {
          "output_type": "stream",
          "text": [
            "ARIMA(0, 1, 1)x(1, 0, 1, 12)12 - AIC:8043.878442212377\n"
          ],
          "name": "stdout"
        },
        {
          "output_type": "stream",
          "text": [
            "/usr/local/lib/python3.6/dist-packages/statsmodels/tsa/base/tsa_model.py:219: ValueWarning:\n",
            "\n",
            "A date index has been provided, but it has no associated frequency information and so will be ignored when e.g. forecasting.\n",
            "\n"
          ],
          "name": "stderr"
        },
        {
          "output_type": "stream",
          "text": [
            "ARIMA(0, 1, 1)x(1, 1, 0, 12)12 - AIC:7948.648858586903\n"
          ],
          "name": "stdout"
        },
        {
          "output_type": "stream",
          "text": [
            "/usr/local/lib/python3.6/dist-packages/statsmodels/tsa/base/tsa_model.py:219: ValueWarning:\n",
            "\n",
            "A date index has been provided, but it has no associated frequency information and so will be ignored when e.g. forecasting.\n",
            "\n"
          ],
          "name": "stderr"
        },
        {
          "output_type": "stream",
          "text": [
            "ARIMA(0, 1, 1)x(1, 1, 1, 12)12 - AIC:7851.257369080118\n",
            "ARIMA(1, 0, 0)x(0, 0, 0, 12)12 - AIC:8449.876315977825\n",
            "ARIMA(1, 0, 0)x(0, 0, 1, 12)12 - AIC:8127.714577149503\n",
            "ARIMA(1, 0, 0)x(0, 1, 0, 12)12 - AIC:8326.910461461694\n"
          ],
          "name": "stdout"
        },
        {
          "output_type": "stream",
          "text": [
            "/usr/local/lib/python3.6/dist-packages/statsmodels/tsa/base/tsa_model.py:219: ValueWarning:\n",
            "\n",
            "A date index has been provided, but it has no associated frequency information and so will be ignored when e.g. forecasting.\n",
            "\n",
            "/usr/local/lib/python3.6/dist-packages/statsmodels/tsa/base/tsa_model.py:219: ValueWarning:\n",
            "\n",
            "A date index has been provided, but it has no associated frequency information and so will be ignored when e.g. forecasting.\n",
            "\n",
            "/usr/local/lib/python3.6/dist-packages/statsmodels/tsa/base/tsa_model.py:219: ValueWarning:\n",
            "\n",
            "A date index has been provided, but it has no associated frequency information and so will be ignored when e.g. forecasting.\n",
            "\n",
            "/usr/local/lib/python3.6/dist-packages/statsmodels/tsa/base/tsa_model.py:219: ValueWarning:\n",
            "\n",
            "A date index has been provided, but it has no associated frequency information and so will be ignored when e.g. forecasting.\n",
            "\n"
          ],
          "name": "stderr"
        },
        {
          "output_type": "stream",
          "text": [
            "ARIMA(1, 0, 0)x(0, 1, 1, 12)12 - AIC:7887.382090256488\n",
            "ARIMA(1, 0, 0)x(1, 0, 0, 12)12 - AIC:8126.6719502674705\n"
          ],
          "name": "stdout"
        },
        {
          "output_type": "stream",
          "text": [
            "/usr/local/lib/python3.6/dist-packages/statsmodels/tsa/base/tsa_model.py:219: ValueWarning:\n",
            "\n",
            "A date index has been provided, but it has no associated frequency information and so will be ignored when e.g. forecasting.\n",
            "\n",
            "/usr/local/lib/python3.6/dist-packages/statsmodels/tsa/base/tsa_model.py:219: ValueWarning:\n",
            "\n",
            "A date index has been provided, but it has no associated frequency information and so will be ignored when e.g. forecasting.\n",
            "\n"
          ],
          "name": "stderr"
        },
        {
          "output_type": "stream",
          "text": [
            "ARIMA(1, 0, 0)x(1, 0, 1, 12)12 - AIC:8122.527266771205\n"
          ],
          "name": "stdout"
        },
        {
          "output_type": "stream",
          "text": [
            "/usr/local/lib/python3.6/dist-packages/statsmodels/tsa/base/tsa_model.py:219: ValueWarning:\n",
            "\n",
            "A date index has been provided, but it has no associated frequency information and so will be ignored when e.g. forecasting.\n",
            "\n"
          ],
          "name": "stderr"
        },
        {
          "output_type": "stream",
          "text": [
            "ARIMA(1, 0, 0)x(1, 1, 0, 12)12 - AIC:7938.722675946269\n"
          ],
          "name": "stdout"
        },
        {
          "output_type": "stream",
          "text": [
            "/usr/local/lib/python3.6/dist-packages/statsmodels/tsa/base/tsa_model.py:219: ValueWarning:\n",
            "\n",
            "A date index has been provided, but it has no associated frequency information and so will be ignored when e.g. forecasting.\n",
            "\n"
          ],
          "name": "stderr"
        },
        {
          "output_type": "stream",
          "text": [
            "ARIMA(1, 0, 0)x(1, 1, 1, 12)12 - AIC:7888.351749699074\n",
            "ARIMA(1, 0, 1)x(0, 0, 0, 12)12 - AIC:8382.097952538712\n",
            "ARIMA(1, 0, 1)x(0, 0, 1, 12)12 - AIC:8064.823957943412\n"
          ],
          "name": "stdout"
        },
        {
          "output_type": "stream",
          "text": [
            "/usr/local/lib/python3.6/dist-packages/statsmodels/tsa/base/tsa_model.py:219: ValueWarning:\n",
            "\n",
            "A date index has been provided, but it has no associated frequency information and so will be ignored when e.g. forecasting.\n",
            "\n",
            "/usr/local/lib/python3.6/dist-packages/statsmodels/tsa/base/tsa_model.py:219: ValueWarning:\n",
            "\n",
            "A date index has been provided, but it has no associated frequency information and so will be ignored when e.g. forecasting.\n",
            "\n",
            "/usr/local/lib/python3.6/dist-packages/statsmodels/tsa/base/tsa_model.py:219: ValueWarning:\n",
            "\n",
            "A date index has been provided, but it has no associated frequency information and so will be ignored when e.g. forecasting.\n",
            "\n"
          ],
          "name": "stderr"
        },
        {
          "output_type": "stream",
          "text": [
            "ARIMA(1, 0, 1)x(0, 1, 0, 12)12 - AIC:8304.577370250168\n"
          ],
          "name": "stdout"
        },
        {
          "output_type": "stream",
          "text": [
            "/usr/local/lib/python3.6/dist-packages/statsmodels/tsa/base/tsa_model.py:219: ValueWarning:\n",
            "\n",
            "A date index has been provided, but it has no associated frequency information and so will be ignored when e.g. forecasting.\n",
            "\n"
          ],
          "name": "stderr"
        },
        {
          "output_type": "stream",
          "text": [
            "ARIMA(1, 0, 1)x(0, 1, 1, 12)12 - AIC:7845.407529045582\n",
            "ARIMA(1, 0, 1)x(1, 0, 0, 12)12 - AIC:8088.917973506932\n"
          ],
          "name": "stdout"
        },
        {
          "output_type": "stream",
          "text": [
            "/usr/local/lib/python3.6/dist-packages/statsmodels/tsa/base/tsa_model.py:219: ValueWarning:\n",
            "\n",
            "A date index has been provided, but it has no associated frequency information and so will be ignored when e.g. forecasting.\n",
            "\n",
            "/usr/local/lib/python3.6/dist-packages/statsmodels/tsa/base/tsa_model.py:219: ValueWarning:\n",
            "\n",
            "A date index has been provided, but it has no associated frequency information and so will be ignored when e.g. forecasting.\n",
            "\n"
          ],
          "name": "stderr"
        },
        {
          "output_type": "stream",
          "text": [
            "ARIMA(1, 0, 1)x(1, 0, 1, 12)12 - AIC:8065.799375815624\n"
          ],
          "name": "stdout"
        },
        {
          "output_type": "stream",
          "text": [
            "/usr/local/lib/python3.6/dist-packages/statsmodels/tsa/base/tsa_model.py:219: ValueWarning:\n",
            "\n",
            "A date index has been provided, but it has no associated frequency information and so will be ignored when e.g. forecasting.\n",
            "\n"
          ],
          "name": "stderr"
        },
        {
          "output_type": "stream",
          "text": [
            "ARIMA(1, 0, 1)x(1, 1, 0, 12)12 - AIC:7924.735261687327\n"
          ],
          "name": "stdout"
        },
        {
          "output_type": "stream",
          "text": [
            "/usr/local/lib/python3.6/dist-packages/statsmodels/tsa/base/tsa_model.py:219: ValueWarning:\n",
            "\n",
            "A date index has been provided, but it has no associated frequency information and so will be ignored when e.g. forecasting.\n",
            "\n"
          ],
          "name": "stderr"
        },
        {
          "output_type": "stream",
          "text": [
            "ARIMA(1, 0, 1)x(1, 1, 1, 12)12 - AIC:7847.362989297835\n",
            "ARIMA(1, 1, 0)x(0, 0, 0, 12)12 - AIC:8475.908810708159\n",
            "ARIMA(1, 1, 0)x(0, 0, 1, 12)12 - AIC:8149.279107903309\n",
            "ARIMA(1, 1, 0)x(0, 1, 0, 12)12 - AIC:8409.863937987151\n"
          ],
          "name": "stdout"
        },
        {
          "output_type": "stream",
          "text": [
            "/usr/local/lib/python3.6/dist-packages/statsmodels/tsa/base/tsa_model.py:219: ValueWarning:\n",
            "\n",
            "A date index has been provided, but it has no associated frequency information and so will be ignored when e.g. forecasting.\n",
            "\n",
            "/usr/local/lib/python3.6/dist-packages/statsmodels/tsa/base/tsa_model.py:219: ValueWarning:\n",
            "\n",
            "A date index has been provided, but it has no associated frequency information and so will be ignored when e.g. forecasting.\n",
            "\n",
            "/usr/local/lib/python3.6/dist-packages/statsmodels/tsa/base/tsa_model.py:219: ValueWarning:\n",
            "\n",
            "A date index has been provided, but it has no associated frequency information and so will be ignored when e.g. forecasting.\n",
            "\n",
            "/usr/local/lib/python3.6/dist-packages/statsmodels/tsa/base/tsa_model.py:219: ValueWarning:\n",
            "\n",
            "A date index has been provided, but it has no associated frequency information and so will be ignored when e.g. forecasting.\n",
            "\n"
          ],
          "name": "stderr"
        },
        {
          "output_type": "stream",
          "text": [
            "ARIMA(1, 1, 0)x(0, 1, 1, 12)12 - AIC:7939.310642299919\n",
            "ARIMA(1, 1, 0)x(1, 0, 0, 12)12 - AIC:8149.225901727422\n"
          ],
          "name": "stdout"
        },
        {
          "output_type": "stream",
          "text": [
            "/usr/local/lib/python3.6/dist-packages/statsmodels/tsa/base/tsa_model.py:219: ValueWarning:\n",
            "\n",
            "A date index has been provided, but it has no associated frequency information and so will be ignored when e.g. forecasting.\n",
            "\n",
            "/usr/local/lib/python3.6/dist-packages/statsmodels/tsa/base/tsa_model.py:219: ValueWarning:\n",
            "\n",
            "A date index has been provided, but it has no associated frequency information and so will be ignored when e.g. forecasting.\n",
            "\n"
          ],
          "name": "stderr"
        },
        {
          "output_type": "stream",
          "text": [
            "ARIMA(1, 1, 0)x(1, 0, 1, 12)12 - AIC:8149.228592344309\n"
          ],
          "name": "stdout"
        },
        {
          "output_type": "stream",
          "text": [
            "/usr/local/lib/python3.6/dist-packages/statsmodels/tsa/base/tsa_model.py:219: ValueWarning:\n",
            "\n",
            "A date index has been provided, but it has no associated frequency information and so will be ignored when e.g. forecasting.\n",
            "\n"
          ],
          "name": "stderr"
        },
        {
          "output_type": "stream",
          "text": [
            "ARIMA(1, 1, 0)x(1, 1, 0, 12)12 - AIC:7996.483367336291\n"
          ],
          "name": "stdout"
        },
        {
          "output_type": "stream",
          "text": [
            "/usr/local/lib/python3.6/dist-packages/statsmodels/tsa/base/tsa_model.py:219: ValueWarning:\n",
            "\n",
            "A date index has been provided, but it has no associated frequency information and so will be ignored when e.g. forecasting.\n",
            "\n"
          ],
          "name": "stderr"
        },
        {
          "output_type": "stream",
          "text": [
            "ARIMA(1, 1, 0)x(1, 1, 1, 12)12 - AIC:7941.171464705169\n",
            "ARIMA(1, 1, 1)x(0, 0, 0, 12)12 - AIC:8359.976998644897\n"
          ],
          "name": "stdout"
        },
        {
          "output_type": "stream",
          "text": [
            "/usr/local/lib/python3.6/dist-packages/statsmodels/tsa/base/tsa_model.py:219: ValueWarning:\n",
            "\n",
            "A date index has been provided, but it has no associated frequency information and so will be ignored when e.g. forecasting.\n",
            "\n",
            "/usr/local/lib/python3.6/dist-packages/statsmodels/tsa/base/tsa_model.py:219: ValueWarning:\n",
            "\n",
            "A date index has been provided, but it has no associated frequency information and so will be ignored when e.g. forecasting.\n",
            "\n"
          ],
          "name": "stderr"
        },
        {
          "output_type": "stream",
          "text": [
            "ARIMA(1, 1, 1)x(0, 0, 1, 12)12 - AIC:8041.904735640861\n"
          ],
          "name": "stdout"
        },
        {
          "output_type": "stream",
          "text": [
            "/usr/local/lib/python3.6/dist-packages/statsmodels/tsa/base/tsa_model.py:219: ValueWarning:\n",
            "\n",
            "A date index has been provided, but it has no associated frequency information and so will be ignored when e.g. forecasting.\n",
            "\n",
            "/usr/local/lib/python3.6/dist-packages/statsmodels/base/model.py:512: ConvergenceWarning:\n",
            "\n",
            "Maximum Likelihood optimization failed to converge. Check mle_retvals\n",
            "\n",
            "/usr/local/lib/python3.6/dist-packages/statsmodels/tsa/base/tsa_model.py:219: ValueWarning:\n",
            "\n",
            "A date index has been provided, but it has no associated frequency information and so will be ignored when e.g. forecasting.\n",
            "\n"
          ],
          "name": "stderr"
        },
        {
          "output_type": "stream",
          "text": [
            "ARIMA(1, 1, 1)x(0, 1, 0, 12)12 - AIC:8283.074558788827\n",
            "ARIMA(1, 1, 1)x(0, 1, 1, 12)12 - AIC:7840.684719470208\n",
            "ARIMA(1, 1, 1)x(1, 0, 0, 12)12 - AIC:8065.623739545958\n"
          ],
          "name": "stdout"
        },
        {
          "output_type": "stream",
          "text": [
            "/usr/local/lib/python3.6/dist-packages/statsmodels/tsa/base/tsa_model.py:219: ValueWarning:\n",
            "\n",
            "A date index has been provided, but it has no associated frequency information and so will be ignored when e.g. forecasting.\n",
            "\n",
            "/usr/local/lib/python3.6/dist-packages/statsmodels/tsa/base/tsa_model.py:219: ValueWarning:\n",
            "\n",
            "A date index has been provided, but it has no associated frequency information and so will be ignored when e.g. forecasting.\n",
            "\n"
          ],
          "name": "stderr"
        },
        {
          "output_type": "stream",
          "text": [
            "ARIMA(1, 1, 1)x(1, 0, 1, 12)12 - AIC:8042.345635541777\n"
          ],
          "name": "stdout"
        },
        {
          "output_type": "stream",
          "text": [
            "/usr/local/lib/python3.6/dist-packages/statsmodels/tsa/base/tsa_model.py:219: ValueWarning:\n",
            "\n",
            "A date index has been provided, but it has no associated frequency information and so will be ignored when e.g. forecasting.\n",
            "\n"
          ],
          "name": "stderr"
        },
        {
          "output_type": "stream",
          "text": [
            "ARIMA(1, 1, 1)x(1, 1, 0, 12)12 - AIC:7929.299229751905\n"
          ],
          "name": "stdout"
        },
        {
          "output_type": "stream",
          "text": [
            "/usr/local/lib/python3.6/dist-packages/statsmodels/tsa/base/tsa_model.py:219: ValueWarning:\n",
            "\n",
            "A date index has been provided, but it has no associated frequency information and so will be ignored when e.g. forecasting.\n",
            "\n"
          ],
          "name": "stderr"
        },
        {
          "output_type": "stream",
          "text": [
            "ARIMA(1, 1, 1)x(1, 1, 1, 12)12 - AIC:7842.639536539859\n"
          ],
          "name": "stdout"
        }
      ]
    },
    {
      "cell_type": "code",
      "metadata": {
        "id": "ZavxBJqPu2tb",
        "colab_type": "code",
        "colab": {
          "base_uri": "https://localhost:8080/",
          "height": 241
        },
        "outputId": "7a051704-f5f7-4e91-ae94-fc9f7ebef520"
      },
      "source": [
        "model = sm.tsa.statespace.SARIMAX(y,\n",
        "                                order=(0, 1, 1),\n",
        "                                seasonal_order=(1, 1, 1, 12),\n",
        "                                enforce_stationarity=False,\n",
        "                                enforce_invertibility=False)\n",
        "results = model.fit()\n",
        "print(results.summary().tables[1])"
      ],
      "execution_count": null,
      "outputs": [
        {
          "output_type": "stream",
          "text": [
            "/usr/local/lib/python3.6/dist-packages/statsmodels/tsa/base/tsa_model.py:219: ValueWarning:\n",
            "\n",
            "A date index has been provided, but it has no associated frequency information and so will be ignored when e.g. forecasting.\n",
            "\n"
          ],
          "name": "stderr"
        },
        {
          "output_type": "stream",
          "text": [
            "==============================================================================\n",
            "                 coef    std err          z      P>|z|      [0.025      0.975]\n",
            "------------------------------------------------------------------------------\n",
            "ma.L1         -0.8027      0.060    -13.454      0.000      -0.920      -0.686\n",
            "ar.S.L12      -0.0255      0.156     -0.164      0.870      -0.331       0.280\n",
            "ma.S.L12      -0.9929      0.034    -28.818      0.000      -1.060      -0.925\n",
            "sigma2      4.249e+09    8.6e-12   4.94e+20      0.000    4.25e+09    4.25e+09\n",
            "==============================================================================\n"
          ],
          "name": "stdout"
        }
      ]
    },
    {
      "cell_type": "code",
      "metadata": {
        "id": "_9yk6omrvAle",
        "colab_type": "code",
        "colab": {
          "base_uri": "https://localhost:8080/",
          "height": 461
        },
        "outputId": "a577d688-6a84-4d20-9f40-ff422d57092a"
      },
      "source": [
        "results.plot_diagnostics(figsize=(18, 8))\n",
        "plt.show()"
      ],
      "execution_count": null,
      "outputs": [
        {
          "output_type": "display_data",
          "data": {
            "image/png": "[encoded data removed]",
            "text/plain": [
              "<Figure size 1296x576 with 4 Axes>"
            ]
          },
          "metadata": {
            "tags": [],
            "needs_background": "light"
          }
        }
      ]
    },
    {
      "cell_type": "code",
      "metadata": {
        "id": "fWstrFvhvF-x",
        "colab_type": "code",
        "colab": {
          "base_uri": "https://localhost:8080/",
          "height": 277
        },
        "outputId": "3dab339a-cd98-4c26-81da-3674e9d21347"
      },
      "source": [
        "pred = results.get_prediction(start=pd.to_datetime('2020-3-31'), dynamic=True)\n",
        "pred_ci = pred.conf_int()\n",
        "ax = y['2020':].plot(label='observed')\n",
        "pred.predicted_mean.plot(ax=ax, label='One-step ahead Forecast', alpha=.7, figsize=(14, 4))\n",
        "ax.fill_between(pred_ci.index,\n",
        "                pred_ci.iloc[:, 0],\n",
        "                pred_ci.iloc[:, 1], color='k', alpha=.2)\n",
        "ax.set_xlabel('Date')\n",
        "ax.set_ylabel('daily_cases')\n",
        "plt.legend()\n",
        "plt.show()"
      ],
      "execution_count": null,
      "outputs": [
        {
          "output_type": "display_data",
          "data": {
            "image/png": "[encoded data removed]",
            "text/plain": [
              "<Figure size 1008x288 with 1 Axes>"
            ]
          },
          "metadata": {
            "tags": [],
            "needs_background": "light"
          }
        }
      ]
    },
    {
      "cell_type": "code",
      "metadata": {
        "id": "nlufkb6tvG-e",
        "colab_type": "code",
        "colab": {}
      },
      "source": [
        "import numpy as np\n",
        "import pandas as pd\n",
        "from fbprophet import Prophet\n",
        "import seaborn as sns\n",
        "import matplotlib.pyplot as plt\n",
        "from sklearn.metrics import mean_squared_error, mean_absolute_error\n",
        "plt.style.use('fivethirtyeight')"
      ],
      "execution_count": null,
      "outputs": []
    },
    {
      "cell_type": "code",
      "metadata": {
        "id": "-inbSk4OvNCk",
        "colab_type": "code",
        "colab": {
          "base_uri": "https://localhost:8080/",
          "height": 68
        },
        "outputId": "9d04c2e6-3be8-4ab8-d43f-22b1237b5993"
      },
      "source": [
        "def mean_absolute_percentage_error(y_true, y_pred):\n",
        "  y_true, y_pred = np.array(y_true), np.array(y_pred)\n",
        "  return np.mean(np.abs((y_true - y_pred) / y_true)) * 100\n",
        "\n",
        "MSE = mean_squared_error(y_true=y['2020-3-31':],\n",
        "y_pred=pred.predicted_mean)\n",
        "MAE = mean_absolute_error(y_true=y['2020-3-31':],\n",
        "y_pred=pred.predicted_mean)\n",
        "MAPE = mean_absolute_percentage_error(y_true=y['2020-3-31':],\n",
        "y_pred=pred.predicted_mean)\n",
        "print ('MSE :',MSE)\n",
        "print ('MAE :',MAE)\n",
        "print ('MAEP', MAPE, '%')\n",
        "y_pred = pred.predicted_mean ;y_true = y['2020-3-31':]"
      ],
      "execution_count": null,
      "outputs": [
        {
          "output_type": "stream",
          "text": [
            "MSE : 2805311490.076694\n",
            "MAE : 22768.27357591518\n",
            "MAEP 1562.863980757251 %\n"
          ],
          "name": "stdout"
        }
      ]
    },
    {
      "cell_type": "code",
      "metadata": {
        "id": "_xBloeR0vWRU",
        "colab_type": "code",
        "colab": {
          "base_uri": "https://localhost:8080/",
          "height": 1000
        },
        "outputId": "626732f2-58fc-4343-8265-abea2a655393"
      },
      "source": [
        "y_forecasted = pred.predicted_mean\n",
        "y_forecasted.head(60)"
      ],
      "execution_count": null,
      "outputs": [
        {
          "output_type": "execute_result",
          "data": {
            "text/plain": [
              "ds\n",
              "2020-03-31    3141.117958\n",
              "2020-04-02    1685.702578\n",
              "2020-04-03    1667.196936\n",
              "2020-04-04    1698.684872\n",
              "2020-04-05    2028.490380\n",
              "2020-04-06    3352.296978\n",
              "2020-04-13    2017.710122\n",
              "2020-04-14    3176.900263\n",
              "2020-04-15    1613.805341\n",
              "2020-04-16    1525.269760\n",
              "2020-04-17    1526.955120\n",
              "2020-04-18    1790.185492\n",
              "2020-04-19    2920.030814\n",
              "2020-04-20    1503.060631\n",
              "2020-04-21    1487.223848\n",
              "2020-04-22    1519.593151\n",
              "2020-04-23    1843.606514\n",
              "2020-04-24    3134.550732\n",
              "2020-04-25    1837.136556\n",
              "2020-04-26    2968.511031\n",
              "2020-04-27    1449.420393\n",
              "2020-04-28    1365.699621\n",
              "2020-04-29    1368.286843\n",
              "2020-04-30    1630.591966\n",
              "2020-05-02    2779.853081\n",
              "2020-05-03    1361.901087\n",
              "2020-05-04    1345.996146\n",
              "2020-05-05    1378.342941\n",
              "2020-05-06    1702.504224\n",
              "2020-05-13    2994.287679\n",
              "2020-05-14    1695.924189\n",
              "2020-05-15    2828.009019\n",
              "2020-05-16    1307.794602\n",
              "2020-05-17    1223.950870\n",
              "2020-05-18    1226.515060\n",
              "2020-05-19    1488.843813\n",
              "2020-05-20    2637.609088\n",
              "2020-05-21    1219.682167\n",
              "2020-05-22    1203.778967\n",
              "2020-05-23    1236.126337\n",
              "2020-05-24    1560.283842\n",
              "2020-05-25    2852.045865\n",
              "2020-05-26    1553.706619\n",
              "2020-05-27    2685.773308\n",
              "2020-05-28    1165.587589\n",
              "2020-05-29    1081.746997\n",
              "2020-05-30    1084.311776\n",
              "2020-05-31    1346.639925\n",
              "2020-06-02    2495.417863\n",
              "2020-06-03    1077.490302\n",
              "2020-06-04    1061.587058\n",
              "2020-06-05    1093.934412\n",
              "2020-06-06    1418.092014\n",
              "2020-06-13    2709.854585\n",
              "2020-06-13    1411.514719\n",
              "2020-06-13    2543.581872\n",
              "2020-06-13    1023.395420\n",
              "2020-06-13     939.554748\n",
              "2020-06-13     942.119512\n",
              "2020-06-13    1204.447676\n",
              "dtype: float64"
            ]
          },
          "metadata": {
            "tags": []
          },
          "execution_count": 16
        }
      ]
    },
    {
      "cell_type": "code",
      "metadata": {
        "id": "Wh2nfE4SvW7-",
        "colab_type": "code",
        "colab": {
          "base_uri": "https://localhost:8080/",
          "height": 1000
        },
        "outputId": "48874276-2c07-49ac-8fac-eae00a5a169b"
      },
      "source": [
        "y_true= y['2020-3-31':].head(48)\n",
        "y_true"
      ],
      "execution_count": null,
      "outputs": [
        {
          "output_type": "execute_result",
          "data": {
            "text/html": [
              "<div>\n",
              "<style scoped>\n",
              "    .dataframe tbody tr th:only-of-type {\n",
              "        vertical-align: middle;\n",
              "    }\n",
              "\n",
              "    .dataframe tbody tr th {\n",
              "        vertical-align: top;\n",
              "    }\n",
              "\n",
              "    .dataframe thead th {\n",
              "        text-align: right;\n",
              "    }\n",
              "</style>\n",
              "<table border=\"1\" class=\"dataframe\">\n",
              "  <thead>\n",
              "    <tr style=\"text-align: right;\">\n",
              "      <th></th>\n",
              "      <th>y</th>\n",
              "    </tr>\n",
              "    <tr>\n",
              "      <th>ds</th>\n",
              "      <th></th>\n",
              "    </tr>\n",
              "  </thead>\n",
              "  <tbody>\n",
              "    <tr>\n",
              "      <th>2020-03-31</th>\n",
              "      <td>1397.0</td>\n",
              "    </tr>\n",
              "    <tr>\n",
              "      <th>2020-04-02</th>\n",
              "      <td>3.0</td>\n",
              "    </tr>\n",
              "    <tr>\n",
              "      <th>2020-04-03</th>\n",
              "      <td>28.0</td>\n",
              "    </tr>\n",
              "    <tr>\n",
              "      <th>2020-04-04</th>\n",
              "      <td>3082.0</td>\n",
              "    </tr>\n",
              "    <tr>\n",
              "      <th>2020-04-05</th>\n",
              "      <td>46437.0</td>\n",
              "    </tr>\n",
              "    <tr>\n",
              "      <th>2020-04-06</th>\n",
              "      <td>226713.0</td>\n",
              "    </tr>\n",
              "    <tr>\n",
              "      <th>2020-04-13</th>\n",
              "      <td>10453.0</td>\n",
              "    </tr>\n",
              "    <tr>\n",
              "      <th>2020-04-14</th>\n",
              "      <td>11487.0</td>\n",
              "    </tr>\n",
              "    <tr>\n",
              "      <th>2020-04-15</th>\n",
              "      <td>12322.0</td>\n",
              "    </tr>\n",
              "    <tr>\n",
              "      <th>2020-04-16</th>\n",
              "      <td>13430.0</td>\n",
              "    </tr>\n",
              "    <tr>\n",
              "      <th>2020-04-17</th>\n",
              "      <td>14352.0</td>\n",
              "    </tr>\n",
              "    <tr>\n",
              "      <th>2020-04-18</th>\n",
              "      <td>15722.0</td>\n",
              "    </tr>\n",
              "    <tr>\n",
              "      <th>2020-04-19</th>\n",
              "      <td>17615.0</td>\n",
              "    </tr>\n",
              "    <tr>\n",
              "      <th>2020-04-20</th>\n",
              "      <td>18539.0</td>\n",
              "    </tr>\n",
              "    <tr>\n",
              "      <th>2020-04-21</th>\n",
              "      <td>20080.0</td>\n",
              "    </tr>\n",
              "    <tr>\n",
              "      <th>2020-04-22</th>\n",
              "      <td>21370.0</td>\n",
              "    </tr>\n",
              "    <tr>\n",
              "      <th>2020-04-23</th>\n",
              "      <td>23077.0</td>\n",
              "    </tr>\n",
              "    <tr>\n",
              "      <th>2020-04-24</th>\n",
              "      <td>24530.0</td>\n",
              "    </tr>\n",
              "    <tr>\n",
              "      <th>2020-04-25</th>\n",
              "      <td>26283.0</td>\n",
              "    </tr>\n",
              "    <tr>\n",
              "      <th>2020-04-26</th>\n",
              "      <td>27890.0</td>\n",
              "    </tr>\n",
              "    <tr>\n",
              "      <th>2020-04-27</th>\n",
              "      <td>29451.0</td>\n",
              "    </tr>\n",
              "    <tr>\n",
              "      <th>2020-04-28</th>\n",
              "      <td>31324.0</td>\n",
              "    </tr>\n",
              "    <tr>\n",
              "      <th>2020-04-29</th>\n",
              "      <td>33062.0</td>\n",
              "    </tr>\n",
              "    <tr>\n",
              "      <th>2020-04-30</th>\n",
              "      <td>34863.0</td>\n",
              "    </tr>\n",
              "    <tr>\n",
              "      <th>2020-05-02</th>\n",
              "      <td>3.0</td>\n",
              "    </tr>\n",
              "    <tr>\n",
              "      <th>2020-05-03</th>\n",
              "      <td>30.0</td>\n",
              "    </tr>\n",
              "    <tr>\n",
              "      <th>2020-05-04</th>\n",
              "      <td>3588.0</td>\n",
              "    </tr>\n",
              "    <tr>\n",
              "      <th>2020-05-05</th>\n",
              "      <td>49400.0</td>\n",
              "    </tr>\n",
              "    <tr>\n",
              "      <th>2020-05-06</th>\n",
              "      <td>236184.0</td>\n",
              "    </tr>\n",
              "    <tr>\n",
              "      <th>2020-05-13</th>\n",
              "      <td>78055.0</td>\n",
              "    </tr>\n",
              "    <tr>\n",
              "      <th>2020-05-14</th>\n",
              "      <td>81997.0</td>\n",
              "    </tr>\n",
              "    <tr>\n",
              "      <th>2020-05-15</th>\n",
              "      <td>85784.0</td>\n",
              "    </tr>\n",
              "    <tr>\n",
              "      <th>2020-05-16</th>\n",
              "      <td>90648.0</td>\n",
              "    </tr>\n",
              "    <tr>\n",
              "      <th>2020-05-17</th>\n",
              "      <td>95698.0</td>\n",
              "    </tr>\n",
              "    <tr>\n",
              "      <th>2020-05-18</th>\n",
              "      <td>100328.0</td>\n",
              "    </tr>\n",
              "    <tr>\n",
              "      <th>2020-05-19</th>\n",
              "      <td>106475.0</td>\n",
              "    </tr>\n",
              "    <tr>\n",
              "      <th>2020-05-20</th>\n",
              "      <td>112028.0</td>\n",
              "    </tr>\n",
              "    <tr>\n",
              "      <th>2020-05-21</th>\n",
              "      <td>118226.0</td>\n",
              "    </tr>\n",
              "    <tr>\n",
              "      <th>2020-05-22</th>\n",
              "      <td>124794.0</td>\n",
              "    </tr>\n",
              "    <tr>\n",
              "      <th>2020-05-23</th>\n",
              "      <td>131423.0</td>\n",
              "    </tr>\n",
              "    <tr>\n",
              "      <th>2020-05-24</th>\n",
              "      <td>138536.0</td>\n",
              "    </tr>\n",
              "    <tr>\n",
              "      <th>2020-05-25</th>\n",
              "      <td>144950.0</td>\n",
              "    </tr>\n",
              "    <tr>\n",
              "      <th>2020-05-26</th>\n",
              "      <td>150793.0</td>\n",
              "    </tr>\n",
              "    <tr>\n",
              "      <th>2020-05-27</th>\n",
              "      <td>158086.0</td>\n",
              "    </tr>\n",
              "    <tr>\n",
              "      <th>2020-05-28</th>\n",
              "      <td>165386.0</td>\n",
              "    </tr>\n",
              "    <tr>\n",
              "      <th>2020-05-29</th>\n",
              "      <td>173491.0</td>\n",
              "    </tr>\n",
              "    <tr>\n",
              "      <th>2020-05-30</th>\n",
              "      <td>181827.0</td>\n",
              "    </tr>\n",
              "    <tr>\n",
              "      <th>2020-05-31</th>\n",
              "      <td>190609.0</td>\n",
              "    </tr>\n",
              "  </tbody>\n",
              "</table>\n",
              "</div>"
            ],
            "text/plain": [
              "                   y\n",
              "ds                  \n",
              "2020-03-31    1397.0\n",
              "2020-04-02       3.0\n",
              "2020-04-03      28.0\n",
              "2020-04-04    3082.0\n",
              "2020-04-05   46437.0\n",
              "2020-04-06  226713.0\n",
              "2020-04-13   10453.0\n",
              "2020-04-14   11487.0\n",
              "2020-04-15   12322.0\n",
              "2020-04-16   13430.0\n",
              "2020-04-17   14352.0\n",
              "2020-04-18   15722.0\n",
              "2020-04-19   17615.0\n",
              "2020-04-20   18539.0\n",
              "2020-04-21   20080.0\n",
              "2020-04-22   21370.0\n",
              "2020-04-23   23077.0\n",
              "2020-04-24   24530.0\n",
              "2020-04-25   26283.0\n",
              "2020-04-26   27890.0\n",
              "2020-04-27   29451.0\n",
              "2020-04-28   31324.0\n",
              "2020-04-29   33062.0\n",
              "2020-04-30   34863.0\n",
              "2020-05-02       3.0\n",
              "2020-05-03      30.0\n",
              "2020-05-04    3588.0\n",
              "2020-05-05   49400.0\n",
              "2020-05-06  236184.0\n",
              "2020-05-13   78055.0\n",
              "2020-05-14   81997.0\n",
              "2020-05-15   85784.0\n",
              "2020-05-16   90648.0\n",
              "2020-05-17   95698.0\n",
              "2020-05-18  100328.0\n",
              "2020-05-19  106475.0\n",
              "2020-05-20  112028.0\n",
              "2020-05-21  118226.0\n",
              "2020-05-22  124794.0\n",
              "2020-05-23  131423.0\n",
              "2020-05-24  138536.0\n",
              "2020-05-25  144950.0\n",
              "2020-05-26  150793.0\n",
              "2020-05-27  158086.0\n",
              "2020-05-28  165386.0\n",
              "2020-05-29  173491.0\n",
              "2020-05-30  181827.0\n",
              "2020-05-31  190609.0"
            ]
          },
          "metadata": {
            "tags": []
          },
          "execution_count": 17
        }
      ]
    },
    {
      "cell_type": "code",
      "metadata": {
        "id": "nviu0tCfvcmf",
        "colab_type": "code",
        "colab": {
          "base_uri": "https://localhost:8080/",
          "height": 1000
        },
        "outputId": "b4e4ddb9-7dae-4e01-b311-0159e402d124"
      },
      "source": [
        "pred_ci.head(48)"
      ],
      "execution_count": null,
      "outputs": [
        {
          "output_type": "execute_result",
          "data": {
            "text/html": [
              "<div>\n",
              "<style scoped>\n",
              "    .dataframe tbody tr th:only-of-type {\n",
              "        vertical-align: middle;\n",
              "    }\n",
              "\n",
              "    .dataframe tbody tr th {\n",
              "        vertical-align: top;\n",
              "    }\n",
              "\n",
              "    .dataframe thead th {\n",
              "        text-align: right;\n",
              "    }\n",
              "</style>\n",
              "<table border=\"1\" class=\"dataframe\">\n",
              "  <thead>\n",
              "    <tr style=\"text-align: right;\">\n",
              "      <th></th>\n",
              "      <th>lower y</th>\n",
              "      <th>upper y</th>\n",
              "    </tr>\n",
              "    <tr>\n",
              "      <th>ds</th>\n",
              "      <th></th>\n",
              "      <th></th>\n",
              "    </tr>\n",
              "  </thead>\n",
              "  <tbody>\n",
              "    <tr>\n",
              "      <th>2020-03-31</th>\n",
              "      <td>-124714.848057</td>\n",
              "      <td>130997.083973</td>\n",
              "    </tr>\n",
              "    <tr>\n",
              "      <th>2020-04-02</th>\n",
              "      <td>-128665.123276</td>\n",
              "      <td>132036.528431</td>\n",
              "    </tr>\n",
              "    <tr>\n",
              "      <th>2020-04-03</th>\n",
              "      <td>-131132.772556</td>\n",
              "      <td>134467.166428</td>\n",
              "    </tr>\n",
              "    <tr>\n",
              "      <th>2020-04-04</th>\n",
              "      <td>-133507.529567</td>\n",
              "      <td>136904.899311</td>\n",
              "    </tr>\n",
              "    <tr>\n",
              "      <th>2020-04-05</th>\n",
              "      <td>-135543.721982</td>\n",
              "      <td>139600.702741</td>\n",
              "    </tr>\n",
              "    <tr>\n",
              "      <th>2020-04-06</th>\n",
              "      <td>-136548.194494</td>\n",
              "      <td>143252.788450</td>\n",
              "    </tr>\n",
              "    <tr>\n",
              "      <th>2020-04-13</th>\n",
              "      <td>-140175.788257</td>\n",
              "      <td>144211.208502</td>\n",
              "    </tr>\n",
              "    <tr>\n",
              "      <th>2020-04-14</th>\n",
              "      <td>-141276.740774</td>\n",
              "      <td>147630.541299</td>\n",
              "    </tr>\n",
              "    <tr>\n",
              "      <th>2020-04-15</th>\n",
              "      <td>-145061.286049</td>\n",
              "      <td>148288.896731</td>\n",
              "    </tr>\n",
              "    <tr>\n",
              "      <th>2020-04-16</th>\n",
              "      <td>-147375.332084</td>\n",
              "      <td>150425.871604</td>\n",
              "    </tr>\n",
              "    <tr>\n",
              "      <th>2020-04-17</th>\n",
              "      <td>-149548.453620</td>\n",
              "      <td>152602.363859</td>\n",
              "    </tr>\n",
              "    <tr>\n",
              "      <th>2020-04-18</th>\n",
              "      <td>-151437.272854</td>\n",
              "      <td>155017.643838</td>\n",
              "    </tr>\n",
              "    <tr>\n",
              "      <th>2020-04-19</th>\n",
              "      <td>-152066.724148</td>\n",
              "      <td>157906.785777</td>\n",
              "    </tr>\n",
              "    <tr>\n",
              "      <th>2020-04-20</th>\n",
              "      <td>-155516.900780</td>\n",
              "      <td>158523.022043</td>\n",
              "    </tr>\n",
              "    <tr>\n",
              "      <th>2020-04-21</th>\n",
              "      <td>-157540.861446</td>\n",
              "      <td>160515.309142</td>\n",
              "    </tr>\n",
              "    <tr>\n",
              "      <th>2020-04-22</th>\n",
              "      <td>-159492.744902</td>\n",
              "      <td>162531.931203</td>\n",
              "    </tr>\n",
              "    <tr>\n",
              "      <th>2020-04-23</th>\n",
              "      <td>-161130.313911</td>\n",
              "      <td>164817.526940</td>\n",
              "    </tr>\n",
              "    <tr>\n",
              "      <th>2020-04-24</th>\n",
              "      <td>-161779.490742</td>\n",
              "      <td>168048.592207</td>\n",
              "    </tr>\n",
              "    <tr>\n",
              "      <th>2020-04-25</th>\n",
              "      <td>-164996.803497</td>\n",
              "      <td>168671.076609</td>\n",
              "    </tr>\n",
              "    <tr>\n",
              "      <th>2020-04-26</th>\n",
              "      <td>-165766.398610</td>\n",
              "      <td>171703.420673</td>\n",
              "    </tr>\n",
              "    <tr>\n",
              "      <th>2020-04-27</th>\n",
              "      <td>-169154.846445</td>\n",
              "      <td>172053.687230</td>\n",
              "    </tr>\n",
              "    <tr>\n",
              "      <th>2020-04-28</th>\n",
              "      <td>-171144.364174</td>\n",
              "      <td>173875.763415</td>\n",
              "    </tr>\n",
              "    <tr>\n",
              "      <th>2020-04-29</th>\n",
              "      <td>-172992.546873</td>\n",
              "      <td>175729.120559</td>\n",
              "    </tr>\n",
              "    <tr>\n",
              "      <th>2020-04-30</th>\n",
              "      <td>-174568.372318</td>\n",
              "      <td>177829.556250</td>\n",
              "    </tr>\n",
              "    <tr>\n",
              "      <th>2020-05-02</th>\n",
              "      <td>-175387.102075</td>\n",
              "      <td>180946.808236</td>\n",
              "    </tr>\n",
              "    <tr>\n",
              "      <th>2020-05-03</th>\n",
              "      <td>-178640.420333</td>\n",
              "      <td>181364.222507</td>\n",
              "    </tr>\n",
              "    <tr>\n",
              "      <th>2020-05-04</th>\n",
              "      <td>-180473.964330</td>\n",
              "      <td>183165.956622</td>\n",
              "    </tr>\n",
              "    <tr>\n",
              "      <th>2020-05-05</th>\n",
              "      <td>-182242.301738</td>\n",
              "      <td>184998.987619</td>\n",
              "    </tr>\n",
              "    <tr>\n",
              "      <th>2020-05-06</th>\n",
              "      <td>-183702.659812</td>\n",
              "      <td>187107.668260</td>\n",
              "    </tr>\n",
              "    <tr>\n",
              "      <th>2020-05-13</th>\n",
              "      <td>-184180.053432</td>\n",
              "      <td>190168.628790</td>\n",
              "    </tr>\n",
              "    <tr>\n",
              "      <th>2020-05-14</th>\n",
              "      <td>-187233.124344</td>\n",
              "      <td>190624.972722</td>\n",
              "    </tr>\n",
              "    <tr>\n",
              "      <th>2020-05-15</th>\n",
              "      <td>-187842.220928</td>\n",
              "      <td>193498.238966</td>\n",
              "    </tr>\n",
              "    <tr>\n",
              "      <th>2020-05-16</th>\n",
              "      <td>-191072.309655</td>\n",
              "      <td>193687.898859</td>\n",
              "    </tr>\n",
              "    <tr>\n",
              "      <th>2020-05-17</th>\n",
              "      <td>-192924.105271</td>\n",
              "      <td>195372.007010</td>\n",
              "    </tr>\n",
              "    <tr>\n",
              "      <th>2020-05-18</th>\n",
              "      <td>-194626.174501</td>\n",
              "      <td>197079.204622</td>\n",
              "    </tr>\n",
              "    <tr>\n",
              "      <th>2020-05-19</th>\n",
              "      <td>-196059.934539</td>\n",
              "      <td>199037.622164</td>\n",
              "    </tr>\n",
              "    <tr>\n",
              "      <th>2020-05-20</th>\n",
              "      <td>-196716.798802</td>\n",
              "      <td>201992.016978</td>\n",
              "    </tr>\n",
              "    <tr>\n",
              "      <th>2020-05-21</th>\n",
              "      <td>-199831.973347</td>\n",
              "      <td>202271.337681</td>\n",
              "    </tr>\n",
              "    <tr>\n",
              "      <th>2020-05-22</th>\n",
              "      <td>-201531.633510</td>\n",
              "      <td>203939.191444</td>\n",
              "    </tr>\n",
              "    <tr>\n",
              "      <th>2020-05-23</th>\n",
              "      <td>-203170.112342</td>\n",
              "      <td>205642.365016</td>\n",
              "    </tr>\n",
              "    <tr>\n",
              "      <th>2020-05-24</th>\n",
              "      <td>-204504.437056</td>\n",
              "      <td>207625.004740</td>\n",
              "    </tr>\n",
              "    <tr>\n",
              "      <th>2020-05-25</th>\n",
              "      <td>-204859.440065</td>\n",
              "      <td>210563.531795</td>\n",
              "    </tr>\n",
              "    <tr>\n",
              "      <th>2020-05-26</th>\n",
              "      <td>-207793.509648</td>\n",
              "      <td>210900.922886</td>\n",
              "    </tr>\n",
              "    <tr>\n",
              "      <th>2020-05-27</th>\n",
              "      <td>-208286.895770</td>\n",
              "      <td>213658.442386</td>\n",
              "    </tr>\n",
              "    <tr>\n",
              "      <th>2020-05-28</th>\n",
              "      <td>-211400.337160</td>\n",
              "      <td>213731.512339</td>\n",
              "    </tr>\n",
              "    <tr>\n",
              "      <th>2020-05-29</th>\n",
              "      <td>-213152.454265</td>\n",
              "      <td>215315.948260</td>\n",
              "    </tr>\n",
              "    <tr>\n",
              "      <th>2020-05-30</th>\n",
              "      <td>-214746.963506</td>\n",
              "      <td>216915.587059</td>\n",
              "    </tr>\n",
              "    <tr>\n",
              "      <th>2020-05-31</th>\n",
              "      <td>-216075.661412</td>\n",
              "      <td>218768.941263</td>\n",
              "    </tr>\n",
              "  </tbody>\n",
              "</table>\n",
              "</div>"
            ],
            "text/plain": [
              "                  lower y        upper y\n",
              "ds                                      \n",
              "2020-03-31 -124714.848057  130997.083973\n",
              "2020-04-02 -128665.123276  132036.528431\n",
              "2020-04-03 -131132.772556  134467.166428\n",
              "2020-04-04 -133507.529567  136904.899311\n",
              "2020-04-05 -135543.721982  139600.702741\n",
              "2020-04-06 -136548.194494  143252.788450\n",
              "2020-04-13 -140175.788257  144211.208502\n",
              "2020-04-14 -141276.740774  147630.541299\n",
              "2020-04-15 -145061.286049  148288.896731\n",
              "2020-04-16 -147375.332084  150425.871604\n",
              "2020-04-17 -149548.453620  152602.363859\n",
              "2020-04-18 -151437.272854  155017.643838\n",
              "2020-04-19 -152066.724148  157906.785777\n",
              "2020-04-20 -155516.900780  158523.022043\n",
              "2020-04-21 -157540.861446  160515.309142\n",
              "2020-04-22 -159492.744902  162531.931203\n",
              "2020-04-23 -161130.313911  164817.526940\n",
              "2020-04-24 -161779.490742  168048.592207\n",
              "2020-04-25 -164996.803497  168671.076609\n",
              "2020-04-26 -165766.398610  171703.420673\n",
              "2020-04-27 -169154.846445  172053.687230\n",
              "2020-04-28 -171144.364174  173875.763415\n",
              "2020-04-29 -172992.546873  175729.120559\n",
              "2020-04-30 -174568.372318  177829.556250\n",
              "2020-05-02 -175387.102075  180946.808236\n",
              "2020-05-03 -178640.420333  181364.222507\n",
              "2020-05-04 -180473.964330  183165.956622\n",
              "2020-05-05 -182242.301738  184998.987619\n",
              "2020-05-06 -183702.659812  187107.668260\n",
              "2020-05-13 -184180.053432  190168.628790\n",
              "2020-05-14 -187233.124344  190624.972722\n",
              "2020-05-15 -187842.220928  193498.238966\n",
              "2020-05-16 -191072.309655  193687.898859\n",
              "2020-05-17 -192924.105271  195372.007010\n",
              "2020-05-18 -194626.174501  197079.204622\n",
              "2020-05-19 -196059.934539  199037.622164\n",
              "2020-05-20 -196716.798802  201992.016978\n",
              "2020-05-21 -199831.973347  202271.337681\n",
              "2020-05-22 -201531.633510  203939.191444\n",
              "2020-05-23 -203170.112342  205642.365016\n",
              "2020-05-24 -204504.437056  207625.004740\n",
              "2020-05-25 -204859.440065  210563.531795\n",
              "2020-05-26 -207793.509648  210900.922886\n",
              "2020-05-27 -208286.895770  213658.442386\n",
              "2020-05-28 -211400.337160  213731.512339\n",
              "2020-05-29 -213152.454265  215315.948260\n",
              "2020-05-30 -214746.963506  216915.587059\n",
              "2020-05-31 -216075.661412  218768.941263"
            ]
          },
          "metadata": {
            "tags": []
          },
          "execution_count": 18
        }
      ]
    },
    {
      "cell_type": "code",
      "metadata": {
        "id": "H_uPPB2Bvgp9",
        "colab_type": "code",
        "colab": {}
      },
      "source": [
        ""
      ],
      "execution_count": null,
      "outputs": []
    }
  ]
}