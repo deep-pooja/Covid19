{
  "nbformat": 4,
  "nbformat_minor": 0,
  "metadata": {
    "colab": {
      "name": "Time_Series_Forecasting_with_Parametric_Curve_Fitting.ipynb",
      "provenance": [],
      "collapsed_sections": [],
      "include_colab_link": true
    },
    "kernelspec": {
      "name": "python3",
      "display_name": "Python 3"
    }
  },
  "cells": [
    {
      "cell_type": "markdown",
      "metadata": {
        "id": "view-in-github",
        "colab_type": "text"
      },
      "source": [
        "<a href=\"https://colab.research.google.com/github/deepacefic/Covid19-Dashboard/blob/master/Time_Series_Forecasting_with_Parametric_Curve_Fitting.ipynb\" target=\"_parent\"><img src=\"https://colab.research.google.com/assets/colab-badge.svg\" alt=\"Open In Colab\"/></a>"
      ]
    },
    {
      "cell_type": "code",
      "metadata": {
        "id": "z65HKwgEC5Wo",
        "colab_type": "code",
        "colab": {
          "base_uri": "https://localhost:8080/",
          "height": 85
        },
        "outputId": "e3c5a194-8d53-4ed5-e97d-fc694f7d969f"
      },
      "source": [
        "pip install tf-utils"
      ],
      "execution_count": null,
      "outputs": [
        {
          "output_type": "stream",
          "text": [
            "Collecting tf-utils\n",
            "  Downloading https://files.pythonhosted.org/packages/bb/bf/f6800f5d34c2563849a900abaa8e8fdb44e859f9a45e45c35afcfd77d742/tf_utils-1.0.4-py3-none-any.whl\n",
            "Installing collected packages: tf-utils\n",
            "Successfully installed tf-utils-1.0.4\n"
          ],
          "name": "stdout"
        }
      ]
    },
    {
      "cell_type": "code",
      "metadata": {
        "id": "hNNSadoy194M",
        "colab_type": "code",
        "colab": {}
      },
      "source": [
        "import warnings\n",
        "warnings.filterwarnings(\"ignore\")\n",
        "from tf_utils import *\n",
        "\n",
        "import numpy as np\n",
        "import pandas as pd\n",
        "import matplotlib.pyplot as plt"
      ],
      "execution_count": null,
      "outputs": []
    },
    {
      "cell_type": "code",
      "metadata": {
        "id": "HFwx3_dq2DNx",
        "colab_type": "code",
        "colab": {
          "base_uri": "https://localhost:8080/",
          "height": 253
        },
        "outputId": "8c4c29a1-5f39-4426-a863-fc6c5927c9e9"
      },
      "source": [
        "dtf = pd.read_csv(\"https://raw.githubusercontent.com/CSSEGISandData/COVID-19/master/csse_covid_19_data/csse_covid_19_time_series/time_series_covid19_confirmed_global.csv\", sep=\",\")\n",
        "dtf.head()"
      ],
      "execution_count": null,
      "outputs": [
        {
          "output_type": "execute_result",
          "data": {
            "text/html": [
              "<div>\n",
              "<style scoped>\n",
              "    .dataframe tbody tr th:only-of-type {\n",
              "        vertical-align: middle;\n",
              "    }\n",
              "\n",
              "    .dataframe tbody tr th {\n",
              "        vertical-align: top;\n",
              "    }\n",
              "\n",
              "    .dataframe thead th {\n",
              "        text-align: right;\n",
              "    }\n",
              "</style>\n",
              "<table border=\"1\" class=\"dataframe\">\n",
              "  <thead>\n",
              "    <tr style=\"text-align: right;\">\n",
              "      <th></th>\n",
              "      <th>Province/State</th>\n",
              "      <th>Country/Region</th>\n",
              "      <th>Lat</th>\n",
              "      <th>Long</th>\n",
              "      <th>1/22/20</th>\n",
              "      <th>1/23/20</th>\n",
              "      <th>1/24/20</th>\n",
              "      <th>1/25/20</th>\n",
              "      <th>1/26/20</th>\n",
              "      <th>1/27/20</th>\n",
              "      <th>1/28/20</th>\n",
              "      <th>1/29/20</th>\n",
              "      <th>1/30/20</th>\n",
              "      <th>1/31/20</th>\n",
              "      <th>2/1/20</th>\n",
              "      <th>2/2/20</th>\n",
              "      <th>2/3/20</th>\n",
              "      <th>2/4/20</th>\n",
              "      <th>2/5/20</th>\n",
              "      <th>2/6/20</th>\n",
              "      <th>2/7/20</th>\n",
              "      <th>2/8/20</th>\n",
              "      <th>2/9/20</th>\n",
              "      <th>2/10/20</th>\n",
              "      <th>2/11/20</th>\n",
              "      <th>2/12/20</th>\n",
              "      <th>2/13/20</th>\n",
              "      <th>2/14/20</th>\n",
              "      <th>2/15/20</th>\n",
              "      <th>2/16/20</th>\n",
              "      <th>2/17/20</th>\n",
              "      <th>2/18/20</th>\n",
              "      <th>2/19/20</th>\n",
              "      <th>2/20/20</th>\n",
              "      <th>2/21/20</th>\n",
              "      <th>2/22/20</th>\n",
              "      <th>2/23/20</th>\n",
              "      <th>2/24/20</th>\n",
              "      <th>2/25/20</th>\n",
              "      <th>2/26/20</th>\n",
              "      <th>...</th>\n",
              "      <th>5/10/20</th>\n",
              "      <th>5/11/20</th>\n",
              "      <th>5/12/20</th>\n",
              "      <th>5/13/20</th>\n",
              "      <th>5/14/20</th>\n",
              "      <th>5/15/20</th>\n",
              "      <th>5/16/20</th>\n",
              "      <th>5/17/20</th>\n",
              "      <th>5/18/20</th>\n",
              "      <th>5/19/20</th>\n",
              "      <th>5/20/20</th>\n",
              "      <th>5/21/20</th>\n",
              "      <th>5/22/20</th>\n",
              "      <th>5/23/20</th>\n",
              "      <th>5/24/20</th>\n",
              "      <th>5/25/20</th>\n",
              "      <th>5/26/20</th>\n",
              "      <th>5/27/20</th>\n",
              "      <th>5/28/20</th>\n",
              "      <th>5/29/20</th>\n",
              "      <th>5/30/20</th>\n",
              "      <th>5/31/20</th>\n",
              "      <th>6/1/20</th>\n",
              "      <th>6/2/20</th>\n",
              "      <th>6/3/20</th>\n",
              "      <th>6/4/20</th>\n",
              "      <th>6/5/20</th>\n",
              "      <th>6/6/20</th>\n",
              "      <th>6/7/20</th>\n",
              "      <th>6/8/20</th>\n",
              "      <th>6/9/20</th>\n",
              "      <th>6/10/20</th>\n",
              "      <th>6/11/20</th>\n",
              "      <th>6/12/20</th>\n",
              "      <th>6/13/20</th>\n",
              "      <th>6/14/20</th>\n",
              "      <th>6/15/20</th>\n",
              "      <th>6/16/20</th>\n",
              "      <th>6/17/20</th>\n",
              "      <th>6/18/20</th>\n",
              "    </tr>\n",
              "  </thead>\n",
              "  <tbody>\n",
              "    <tr>\n",
              "      <th>0</th>\n",
              "      <td>NaN</td>\n",
              "      <td>Afghanistan</td>\n",
              "      <td>33.0000</td>\n",
              "      <td>65.0000</td>\n",
              "      <td>0</td>\n",
              "      <td>0</td>\n",
              "      <td>0</td>\n",
              "      <td>0</td>\n",
              "      <td>0</td>\n",
              "      <td>0</td>\n",
              "      <td>0</td>\n",
              "      <td>0</td>\n",
              "      <td>0</td>\n",
              "      <td>0</td>\n",
              "      <td>0</td>\n",
              "      <td>0</td>\n",
              "      <td>0</td>\n",
              "      <td>0</td>\n",
              "      <td>0</td>\n",
              "      <td>0</td>\n",
              "      <td>0</td>\n",
              "      <td>0</td>\n",
              "      <td>0</td>\n",
              "      <td>0</td>\n",
              "      <td>0</td>\n",
              "      <td>0</td>\n",
              "      <td>0</td>\n",
              "      <td>0</td>\n",
              "      <td>0</td>\n",
              "      <td>0</td>\n",
              "      <td>0</td>\n",
              "      <td>0</td>\n",
              "      <td>0</td>\n",
              "      <td>0</td>\n",
              "      <td>0</td>\n",
              "      <td>0</td>\n",
              "      <td>0</td>\n",
              "      <td>1</td>\n",
              "      <td>1</td>\n",
              "      <td>1</td>\n",
              "      <td>...</td>\n",
              "      <td>4402</td>\n",
              "      <td>4687</td>\n",
              "      <td>4963</td>\n",
              "      <td>5226</td>\n",
              "      <td>5639</td>\n",
              "      <td>6053</td>\n",
              "      <td>6402</td>\n",
              "      <td>6664</td>\n",
              "      <td>7072</td>\n",
              "      <td>7653</td>\n",
              "      <td>8145</td>\n",
              "      <td>8676</td>\n",
              "      <td>9216</td>\n",
              "      <td>9998</td>\n",
              "      <td>10582</td>\n",
              "      <td>11173</td>\n",
              "      <td>11831</td>\n",
              "      <td>12456</td>\n",
              "      <td>13036</td>\n",
              "      <td>13659</td>\n",
              "      <td>14525</td>\n",
              "      <td>15205</td>\n",
              "      <td>15750</td>\n",
              "      <td>16509</td>\n",
              "      <td>17267</td>\n",
              "      <td>18054</td>\n",
              "      <td>18969</td>\n",
              "      <td>19551</td>\n",
              "      <td>20342</td>\n",
              "      <td>20917</td>\n",
              "      <td>21459</td>\n",
              "      <td>22142</td>\n",
              "      <td>22890</td>\n",
              "      <td>23546</td>\n",
              "      <td>24102</td>\n",
              "      <td>24766</td>\n",
              "      <td>25527</td>\n",
              "      <td>26310</td>\n",
              "      <td>26874</td>\n",
              "      <td>27532</td>\n",
              "    </tr>\n",
              "    <tr>\n",
              "      <th>1</th>\n",
              "      <td>NaN</td>\n",
              "      <td>Albania</td>\n",
              "      <td>41.1533</td>\n",
              "      <td>20.1683</td>\n",
              "      <td>0</td>\n",
              "      <td>0</td>\n",
              "      <td>0</td>\n",
              "      <td>0</td>\n",
              "      <td>0</td>\n",
              "      <td>0</td>\n",
              "      <td>0</td>\n",
              "      <td>0</td>\n",
              "      <td>0</td>\n",
              "      <td>0</td>\n",
              "      <td>0</td>\n",
              "      <td>0</td>\n",
              "      <td>0</td>\n",
              "      <td>0</td>\n",
              "      <td>0</td>\n",
              "      <td>0</td>\n",
              "      <td>0</td>\n",
              "      <td>0</td>\n",
              "      <td>0</td>\n",
              "      <td>0</td>\n",
              "      <td>0</td>\n",
              "      <td>0</td>\n",
              "      <td>0</td>\n",
              "      <td>0</td>\n",
              "      <td>0</td>\n",
              "      <td>0</td>\n",
              "      <td>0</td>\n",
              "      <td>0</td>\n",
              "      <td>0</td>\n",
              "      <td>0</td>\n",
              "      <td>0</td>\n",
              "      <td>0</td>\n",
              "      <td>0</td>\n",
              "      <td>0</td>\n",
              "      <td>0</td>\n",
              "      <td>0</td>\n",
              "      <td>...</td>\n",
              "      <td>868</td>\n",
              "      <td>872</td>\n",
              "      <td>876</td>\n",
              "      <td>880</td>\n",
              "      <td>898</td>\n",
              "      <td>916</td>\n",
              "      <td>933</td>\n",
              "      <td>946</td>\n",
              "      <td>948</td>\n",
              "      <td>949</td>\n",
              "      <td>964</td>\n",
              "      <td>969</td>\n",
              "      <td>981</td>\n",
              "      <td>989</td>\n",
              "      <td>998</td>\n",
              "      <td>1004</td>\n",
              "      <td>1029</td>\n",
              "      <td>1050</td>\n",
              "      <td>1076</td>\n",
              "      <td>1099</td>\n",
              "      <td>1122</td>\n",
              "      <td>1137</td>\n",
              "      <td>1143</td>\n",
              "      <td>1164</td>\n",
              "      <td>1184</td>\n",
              "      <td>1197</td>\n",
              "      <td>1212</td>\n",
              "      <td>1232</td>\n",
              "      <td>1246</td>\n",
              "      <td>1263</td>\n",
              "      <td>1299</td>\n",
              "      <td>1341</td>\n",
              "      <td>1385</td>\n",
              "      <td>1416</td>\n",
              "      <td>1464</td>\n",
              "      <td>1521</td>\n",
              "      <td>1590</td>\n",
              "      <td>1672</td>\n",
              "      <td>1722</td>\n",
              "      <td>1788</td>\n",
              "    </tr>\n",
              "    <tr>\n",
              "      <th>2</th>\n",
              "      <td>NaN</td>\n",
              "      <td>Algeria</td>\n",
              "      <td>28.0339</td>\n",
              "      <td>1.6596</td>\n",
              "      <td>0</td>\n",
              "      <td>0</td>\n",
              "      <td>0</td>\n",
              "      <td>0</td>\n",
              "      <td>0</td>\n",
              "      <td>0</td>\n",
              "      <td>0</td>\n",
              "      <td>0</td>\n",
              "      <td>0</td>\n",
              "      <td>0</td>\n",
              "      <td>0</td>\n",
              "      <td>0</td>\n",
              "      <td>0</td>\n",
              "      <td>0</td>\n",
              "      <td>0</td>\n",
              "      <td>0</td>\n",
              "      <td>0</td>\n",
              "      <td>0</td>\n",
              "      <td>0</td>\n",
              "      <td>0</td>\n",
              "      <td>0</td>\n",
              "      <td>0</td>\n",
              "      <td>0</td>\n",
              "      <td>0</td>\n",
              "      <td>0</td>\n",
              "      <td>0</td>\n",
              "      <td>0</td>\n",
              "      <td>0</td>\n",
              "      <td>0</td>\n",
              "      <td>0</td>\n",
              "      <td>0</td>\n",
              "      <td>0</td>\n",
              "      <td>0</td>\n",
              "      <td>0</td>\n",
              "      <td>1</td>\n",
              "      <td>1</td>\n",
              "      <td>...</td>\n",
              "      <td>5723</td>\n",
              "      <td>5891</td>\n",
              "      <td>6067</td>\n",
              "      <td>6253</td>\n",
              "      <td>6442</td>\n",
              "      <td>6629</td>\n",
              "      <td>6821</td>\n",
              "      <td>7019</td>\n",
              "      <td>7201</td>\n",
              "      <td>7377</td>\n",
              "      <td>7542</td>\n",
              "      <td>7728</td>\n",
              "      <td>7918</td>\n",
              "      <td>8113</td>\n",
              "      <td>8306</td>\n",
              "      <td>8503</td>\n",
              "      <td>8697</td>\n",
              "      <td>8857</td>\n",
              "      <td>8997</td>\n",
              "      <td>9134</td>\n",
              "      <td>9267</td>\n",
              "      <td>9394</td>\n",
              "      <td>9513</td>\n",
              "      <td>9626</td>\n",
              "      <td>9733</td>\n",
              "      <td>9831</td>\n",
              "      <td>9935</td>\n",
              "      <td>10050</td>\n",
              "      <td>10154</td>\n",
              "      <td>10265</td>\n",
              "      <td>10382</td>\n",
              "      <td>10484</td>\n",
              "      <td>10589</td>\n",
              "      <td>10698</td>\n",
              "      <td>10810</td>\n",
              "      <td>10919</td>\n",
              "      <td>11031</td>\n",
              "      <td>11147</td>\n",
              "      <td>11268</td>\n",
              "      <td>11385</td>\n",
              "    </tr>\n",
              "    <tr>\n",
              "      <th>3</th>\n",
              "      <td>NaN</td>\n",
              "      <td>Andorra</td>\n",
              "      <td>42.5063</td>\n",
              "      <td>1.5218</td>\n",
              "      <td>0</td>\n",
              "      <td>0</td>\n",
              "      <td>0</td>\n",
              "      <td>0</td>\n",
              "      <td>0</td>\n",
              "      <td>0</td>\n",
              "      <td>0</td>\n",
              "      <td>0</td>\n",
              "      <td>0</td>\n",
              "      <td>0</td>\n",
              "      <td>0</td>\n",
              "      <td>0</td>\n",
              "      <td>0</td>\n",
              "      <td>0</td>\n",
              "      <td>0</td>\n",
              "      <td>0</td>\n",
              "      <td>0</td>\n",
              "      <td>0</td>\n",
              "      <td>0</td>\n",
              "      <td>0</td>\n",
              "      <td>0</td>\n",
              "      <td>0</td>\n",
              "      <td>0</td>\n",
              "      <td>0</td>\n",
              "      <td>0</td>\n",
              "      <td>0</td>\n",
              "      <td>0</td>\n",
              "      <td>0</td>\n",
              "      <td>0</td>\n",
              "      <td>0</td>\n",
              "      <td>0</td>\n",
              "      <td>0</td>\n",
              "      <td>0</td>\n",
              "      <td>0</td>\n",
              "      <td>0</td>\n",
              "      <td>0</td>\n",
              "      <td>...</td>\n",
              "      <td>755</td>\n",
              "      <td>755</td>\n",
              "      <td>758</td>\n",
              "      <td>760</td>\n",
              "      <td>761</td>\n",
              "      <td>761</td>\n",
              "      <td>761</td>\n",
              "      <td>761</td>\n",
              "      <td>761</td>\n",
              "      <td>761</td>\n",
              "      <td>762</td>\n",
              "      <td>762</td>\n",
              "      <td>762</td>\n",
              "      <td>762</td>\n",
              "      <td>762</td>\n",
              "      <td>763</td>\n",
              "      <td>763</td>\n",
              "      <td>763</td>\n",
              "      <td>763</td>\n",
              "      <td>764</td>\n",
              "      <td>764</td>\n",
              "      <td>764</td>\n",
              "      <td>765</td>\n",
              "      <td>844</td>\n",
              "      <td>851</td>\n",
              "      <td>852</td>\n",
              "      <td>852</td>\n",
              "      <td>852</td>\n",
              "      <td>852</td>\n",
              "      <td>852</td>\n",
              "      <td>852</td>\n",
              "      <td>852</td>\n",
              "      <td>852</td>\n",
              "      <td>853</td>\n",
              "      <td>853</td>\n",
              "      <td>853</td>\n",
              "      <td>853</td>\n",
              "      <td>854</td>\n",
              "      <td>854</td>\n",
              "      <td>855</td>\n",
              "    </tr>\n",
              "    <tr>\n",
              "      <th>4</th>\n",
              "      <td>NaN</td>\n",
              "      <td>Angola</td>\n",
              "      <td>-11.2027</td>\n",
              "      <td>17.8739</td>\n",
              "      <td>0</td>\n",
              "      <td>0</td>\n",
              "      <td>0</td>\n",
              "      <td>0</td>\n",
              "      <td>0</td>\n",
              "      <td>0</td>\n",
              "      <td>0</td>\n",
              "      <td>0</td>\n",
              "      <td>0</td>\n",
              "      <td>0</td>\n",
              "      <td>0</td>\n",
              "      <td>0</td>\n",
              "      <td>0</td>\n",
              "      <td>0</td>\n",
              "      <td>0</td>\n",
              "      <td>0</td>\n",
              "      <td>0</td>\n",
              "      <td>0</td>\n",
              "      <td>0</td>\n",
              "      <td>0</td>\n",
              "      <td>0</td>\n",
              "      <td>0</td>\n",
              "      <td>0</td>\n",
              "      <td>0</td>\n",
              "      <td>0</td>\n",
              "      <td>0</td>\n",
              "      <td>0</td>\n",
              "      <td>0</td>\n",
              "      <td>0</td>\n",
              "      <td>0</td>\n",
              "      <td>0</td>\n",
              "      <td>0</td>\n",
              "      <td>0</td>\n",
              "      <td>0</td>\n",
              "      <td>0</td>\n",
              "      <td>0</td>\n",
              "      <td>...</td>\n",
              "      <td>45</td>\n",
              "      <td>45</td>\n",
              "      <td>45</td>\n",
              "      <td>45</td>\n",
              "      <td>48</td>\n",
              "      <td>48</td>\n",
              "      <td>48</td>\n",
              "      <td>48</td>\n",
              "      <td>50</td>\n",
              "      <td>52</td>\n",
              "      <td>52</td>\n",
              "      <td>58</td>\n",
              "      <td>60</td>\n",
              "      <td>61</td>\n",
              "      <td>69</td>\n",
              "      <td>70</td>\n",
              "      <td>70</td>\n",
              "      <td>71</td>\n",
              "      <td>74</td>\n",
              "      <td>81</td>\n",
              "      <td>84</td>\n",
              "      <td>86</td>\n",
              "      <td>86</td>\n",
              "      <td>86</td>\n",
              "      <td>86</td>\n",
              "      <td>86</td>\n",
              "      <td>86</td>\n",
              "      <td>88</td>\n",
              "      <td>91</td>\n",
              "      <td>92</td>\n",
              "      <td>96</td>\n",
              "      <td>113</td>\n",
              "      <td>118</td>\n",
              "      <td>130</td>\n",
              "      <td>138</td>\n",
              "      <td>140</td>\n",
              "      <td>142</td>\n",
              "      <td>148</td>\n",
              "      <td>155</td>\n",
              "      <td>166</td>\n",
              "    </tr>\n",
              "  </tbody>\n",
              "</table>\n",
              "<p>5 rows × 153 columns</p>\n",
              "</div>"
            ],
            "text/plain": [
              "  Province/State Country/Region      Lat  ...  6/16/20  6/17/20  6/18/20\n",
              "0            NaN    Afghanistan  33.0000  ...    26310    26874    27532\n",
              "1            NaN        Albania  41.1533  ...     1672     1722     1788\n",
              "2            NaN        Algeria  28.0339  ...    11147    11268    11385\n",
              "3            NaN        Andorra  42.5063  ...      854      854      855\n",
              "4            NaN         Angola -11.2027  ...      148      155      166\n",
              "\n",
              "[5 rows x 153 columns]"
            ]
          },
          "metadata": {
            "tags": []
          },
          "execution_count": 3
        }
      ]
    },
    {
      "cell_type": "markdown",
      "metadata": {
        "id": "OZp1oa6zvSMv",
        "colab_type": "text"
      },
      "source": [
        "# Curve fitting for **India**"
      ]
    },
    {
      "cell_type": "code",
      "metadata": {
        "id": "c4IqAmx53z7l",
        "colab_type": "code",
        "colab": {}
      },
      "source": [
        "\n",
        "## groupby country\n",
        "dtf = dtf.drop(['Province/State','Lat','Long'], axis=1).groupby(\"Country/Region\").sum().T\n",
        "\n",
        "## convert index to datetime\n",
        "dtf.index = pd.to_datetime(dtf.index, infer_datetime_format=True)\n",
        "\n",
        "## create total cases column\n",
        "dtf = pd.DataFrame(index=dtf.index, data=dtf[\"India\"].values, columns=[\"total\"])\n",
        "\n",
        "## create daily changes column\n",
        "dtf[\"new\"] = dtf[\"total\"] - dtf[\"total\"].shift(1)\n",
        "dtf[\"new\"] = dtf[\"new\"].fillna(method='bfill')\n"
      ],
      "execution_count": null,
      "outputs": []
    },
    {
      "cell_type": "code",
      "metadata": {
        "id": "0XyPSDTJlT5c",
        "colab_type": "code",
        "colab": {
          "base_uri": "https://localhost:8080/",
          "height": 359
        },
        "outputId": "f7b86dbf-0f10-46a4-cece-52a979ca1b5b"
      },
      "source": [
        "dtf.tail(10)"
      ],
      "execution_count": null,
      "outputs": [
        {
          "output_type": "execute_result",
          "data": {
            "text/html": [
              "<div>\n",
              "<style scoped>\n",
              "    .dataframe tbody tr th:only-of-type {\n",
              "        vertical-align: middle;\n",
              "    }\n",
              "\n",
              "    .dataframe tbody tr th {\n",
              "        vertical-align: top;\n",
              "    }\n",
              "\n",
              "    .dataframe thead th {\n",
              "        text-align: right;\n",
              "    }\n",
              "</style>\n",
              "<table border=\"1\" class=\"dataframe\">\n",
              "  <thead>\n",
              "    <tr style=\"text-align: right;\">\n",
              "      <th></th>\n",
              "      <th>total</th>\n",
              "      <th>new</th>\n",
              "    </tr>\n",
              "  </thead>\n",
              "  <tbody>\n",
              "    <tr>\n",
              "      <th>2020-06-09</th>\n",
              "      <td>276146</td>\n",
              "      <td>10218.0</td>\n",
              "    </tr>\n",
              "    <tr>\n",
              "      <th>2020-06-10</th>\n",
              "      <td>286605</td>\n",
              "      <td>10459.0</td>\n",
              "    </tr>\n",
              "    <tr>\n",
              "      <th>2020-06-11</th>\n",
              "      <td>297535</td>\n",
              "      <td>10930.0</td>\n",
              "    </tr>\n",
              "    <tr>\n",
              "      <th>2020-06-12</th>\n",
              "      <td>308993</td>\n",
              "      <td>11458.0</td>\n",
              "    </tr>\n",
              "    <tr>\n",
              "      <th>2020-06-13</th>\n",
              "      <td>320922</td>\n",
              "      <td>11929.0</td>\n",
              "    </tr>\n",
              "    <tr>\n",
              "      <th>2020-06-14</th>\n",
              "      <td>332424</td>\n",
              "      <td>11502.0</td>\n",
              "    </tr>\n",
              "    <tr>\n",
              "      <th>2020-06-15</th>\n",
              "      <td>343091</td>\n",
              "      <td>10667.0</td>\n",
              "    </tr>\n",
              "    <tr>\n",
              "      <th>2020-06-16</th>\n",
              "      <td>354065</td>\n",
              "      <td>10974.0</td>\n",
              "    </tr>\n",
              "    <tr>\n",
              "      <th>2020-06-17</th>\n",
              "      <td>366946</td>\n",
              "      <td>12881.0</td>\n",
              "    </tr>\n",
              "    <tr>\n",
              "      <th>2020-06-18</th>\n",
              "      <td>380532</td>\n",
              "      <td>13586.0</td>\n",
              "    </tr>\n",
              "  </tbody>\n",
              "</table>\n",
              "</div>"
            ],
            "text/plain": [
              "             total      new\n",
              "2020-06-09  276146  10218.0\n",
              "2020-06-10  286605  10459.0\n",
              "2020-06-11  297535  10930.0\n",
              "2020-06-12  308993  11458.0\n",
              "2020-06-13  320922  11929.0\n",
              "2020-06-14  332424  11502.0\n",
              "2020-06-15  343091  10667.0\n",
              "2020-06-16  354065  10974.0\n",
              "2020-06-17  366946  12881.0\n",
              "2020-06-18  380532  13586.0"
            ]
          },
          "metadata": {
            "tags": []
          },
          "execution_count": 5
        }
      ]
    },
    {
      "cell_type": "code",
      "metadata": {
        "id": "9tPK2I0MJPpB",
        "colab_type": "code",
        "colab": {
          "base_uri": "https://localhost:8080/",
          "height": 444
        },
        "outputId": "f264cf0b-216f-492c-b760-2c8ff4a12fd5"
      },
      "source": [
        "fig, ax = plt.subplots(nrows=2, ncols=1, sharex=True, figsize=(13,7))\n",
        "ax[0].scatter(dtf.index, dtf[\"total\"].values, color=\"black\")\n",
        "ax[0].set(title=\"total cases\")\n",
        "ax[1].bar(dtf.index, dtf[\"new\"].values, color=\"black\")\n",
        "ax[1].set(title=\"new cases\")\n",
        "plt.show()"
      ],
      "execution_count": null,
      "outputs": [
        {
          "output_type": "display_data",
          "data": {
            "image/png": "[encoded data removed]",
            "text/plain": [
              "<Figure size 936x504 with 2 Axes>"
            ]
          },
          "metadata": {
            "tags": [],
            "needs_background": "light"
          }
        }
      ]
    },
    {
      "cell_type": "code",
      "metadata": {
        "id": "tXztrXr1Rru3",
        "colab_type": "code",
        "colab": {}
      },
      "source": [
        "\n",
        "'''\n",
        "Linear function: f(x) = a + b*x\n",
        "'''\n",
        "def f(x):\n",
        "    return 10 + 2500*x\n",
        "\n",
        "y_linear = f(x=np.arange(len(dtf)))"
      ],
      "execution_count": null,
      "outputs": []
    },
    {
      "cell_type": "code",
      "metadata": {
        "id": "p3p2ifJcR80P",
        "colab_type": "code",
        "colab": {}
      },
      "source": [
        "'''\n",
        "Exponential function: f(x) = a + b^x\n",
        "'''\n",
        "def f(x):\n",
        "    return 10 + 1.091**x\n",
        "\n",
        "y_exponential = f(x=np.arange(len(dtf)))"
      ],
      "execution_count": null,
      "outputs": []
    },
    {
      "cell_type": "code",
      "metadata": {
        "id": "j6QSTitOSCK-",
        "colab_type": "code",
        "colab": {}
      },
      "source": [
        "'''\n",
        "Logistic function: f(x) = a / (1 + e^(-b*(x-c)))\n",
        "'''\n",
        "def f(x): \n",
        "    return 350000 / (1 + np.exp(-0.5*(x-20)))\n",
        "\n",
        "y_logistic = f(x=np.arange(len(dtf)))"
      ],
      "execution_count": null,
      "outputs": []
    },
    {
      "cell_type": "code",
      "metadata": {
        "id": "_4mjMVNiSIRw",
        "colab_type": "code",
        "colab": {
          "base_uri": "https://localhost:8080/",
          "height": 320
        },
        "outputId": "f1d64373-50f5-4ae6-bb5f-ebd39cf1f9f7"
      },
      "source": [
        "fig, ax = plt.subplots(figsize=(13,5))\n",
        "ax.scatter(dtf[\"total\"].index, dtf[\"total\"].values, color=\"black\")\n",
        "ax.plot(dtf[\"total\"].index, y_linear, label=\"linear\", color=\"red\")\n",
        "ax.plot(dtf[\"total\"].index, y_exponential, label=\"exponential\", color=\"green\")\n",
        "ax.plot(dtf[\"total\"].index, y_logistic, label=\"logistic\", color=\"blue\")\n",
        "ax.legend()\n",
        "plt.show()"
      ],
      "execution_count": null,
      "outputs": [
        {
          "output_type": "display_data",
          "data": {
            "image/png": "[encoded data removed]",
            "text/plain": [
              "<Figure size 936x360 with 1 Axes>"
            ]
          },
          "metadata": {
            "tags": [],
            "needs_background": "light"
          }
        }
      ]
    },
    {
      "cell_type": "markdown",
      "metadata": {
        "id": "jDaHF1DIWzbh",
        "colab_type": "text"
      },
      "source": [
        "#-> Data starts low and grows exponentially ... looks similar to a exponential function. But I know for fact that\n",
        "#   this phenomenon has an upper limit, because the virus can't infect more than the total population of the country.\n",
        "#   Therefore the logistic function is more appropriate to model this data."
      ]
    },
    {
      "cell_type": "code",
      "metadata": {
        "id": "U9LD61uxWuxb",
        "colab_type": "code",
        "colab": {}
      },
      "source": [
        "'''\n",
        "Gaussian function: f(x) = a * e^(-0.5 * ((x-μ)/σ)**2)\n",
        "'''\n",
        "def f(x):\n",
        "    return 12000 * np.exp(-0.5 * ((x-145)/21)**2)\n",
        "\n",
        "y_gaussian = f(x=np.arange(len(dtf)))"
      ],
      "execution_count": null,
      "outputs": []
    },
    {
      "cell_type": "code",
      "metadata": {
        "id": "1OsFmYqmSqM1",
        "colab_type": "code",
        "colab": {
          "base_uri": "https://localhost:8080/",
          "height": 320
        },
        "outputId": "de033ede-0b44-484a-d179-7abfff33dd27"
      },
      "source": [
        "fig, ax = plt.subplots(figsize=(13,5))\n",
        "ax.bar(dtf[\"new\"].index, dtf[\"new\"].values, color=\"black\")\n",
        "ax.plot(dtf[\"new\"].index, y_gaussian, color=\"red\")\n",
        "plt.show()"
      ],
      "execution_count": null,
      "outputs": [
        {
          "output_type": "display_data",
          "data": {
            "image/png": "[encoded data removed]",
            "text/plain": [
              "<Figure size 936x360 with 1 Axes>"
            ]
          },
          "metadata": {
            "tags": [],
            "needs_background": "light"
          }
        }
      ]
    },
    {
      "cell_type": "code",
      "metadata": {
        "id": "NvAwEcGJaAbX",
        "colab_type": "code",
        "colab": {
          "base_uri": "https://localhost:8080/",
          "height": 34
        },
        "outputId": "0a721ff9-cb4d-4e05-8a6f-2d0135c6807d"
      },
      "source": [
        "from scipy.optimize import curve_fit\n",
        "'''\n",
        "Logistic function: f(x) = capacity / (1 + e^-k*(x - midpoint) )\n",
        "'''\n",
        "def logistic_f(X, c, k, m):\n",
        "    y = c / (1 + np.exp(-k*(X-m)))\n",
        "    return y\n",
        "## optimize from scipy\n",
        "X=np.arange(len(dtf[\"total\"]))\n",
        "y=dtf[\"total\"].values\n",
        "logistic_model, cov = curve_fit(logistic_f,\n",
        "                                X, \n",
        "                               y , \n",
        "                                maxfev=10000,\n",
        "                                p0=[np.max(dtf[\"total\"]), 1, 1])\n",
        "## print the parameters\n",
        "logistic_model"
      ],
      "execution_count": null,
      "outputs": [
        {
          "output_type": "execute_result",
          "data": {
            "text/plain": [
              "array([6.88990280e+05, 6.31420470e-02, 1.45149004e+02])"
            ]
          },
          "metadata": {
            "tags": []
          },
          "execution_count": 13
        }
      ]
    },
    {
      "cell_type": "code",
      "metadata": {
        "id": "q4k2L3kkiwLT",
        "colab_type": "code",
        "colab": {
          "base_uri": "https://localhost:8080/",
          "height": 34
        },
        "outputId": "ee812d93-a2de-4a20-d020-5ff6611ae5ef"
      },
      "source": [
        "'''\n",
        "Gaussian function: f(x) = a * e^(-0.5 * ((x-μ)/σ)**2)\n",
        "'''\n",
        "def gaussian_f(X, a, b, c):\n",
        "    y_prime = a * np.exp(-0.5 * ((X-b)/c)**2)\n",
        "    return y_prime\n",
        "## optimize from scipy\n",
        "X1=np.arange(len(dtf[\"new\"]))\n",
        "y1=dtf[\"new\"].values\n",
        "gaussian_model, cov = curve_fit(gaussian_f,\n",
        "                                X1, \n",
        "                                y1, \n",
        "                                maxfev=10000,\n",
        "                                p0=[1,np.mean(dtf[\"new\"]),1])\n",
        "## print the parameters\n",
        "gaussian_model"
      ],
      "execution_count": null,
      "outputs": [
        {
          "output_type": "execute_result",
          "data": {
            "text/plain": [
              "array([1.00000000e+00, 2.55390604e+03, 1.00000000e+00])"
            ]
          },
          "metadata": {
            "tags": []
          },
          "execution_count": 51
        }
      ]
    },
    {
      "cell_type": "code",
      "metadata": {
        "id": "bHXMpZHCjTGS",
        "colab_type": "code",
        "colab": {}
      },
      "source": [
        "'''\n",
        "Plot parametric fitting fuction.\n",
        "'''\n",
        "def utils_plot_parametric(dtf, zoom=30, figsize=(15,5)):\n",
        "    ## interval\n",
        "    dtf[\"residuals\"] = dtf[\"ts\"] - dtf[\"model\"]\n",
        "    dtf[\"conf_int_low\"] = dtf[\"forecast\"] - 1.96*dtf[\"residuals\"].std()\n",
        "    dtf[\"conf_int_up\"] = dtf[\"forecast\"] + 1.96*dtf[\"residuals\"].std()\n",
        "    fig, ax = plt.subplots(nrows=1, ncols=2, figsize=figsize)\n",
        "    \n",
        "    ## entire series\n",
        "    dtf[\"ts\"].plot(marker=\".\", linestyle='None', ax=ax[0], title=\"Parametric Fitting\", color=\"black\")\n",
        "    dtf[\"model\"].plot(ax=ax[0], color=\"green\")\n",
        "    dtf[\"forecast\"].plot(ax=ax[0], grid=True, color=\"red\")\n",
        "    ax[0].fill_between(x=dtf.index, y1=dtf['conf_int_low'], y2=dtf['conf_int_up'], color='b', alpha=0.3)\n",
        "   \n",
        "    ## focus on last\n",
        "    first_idx = dtf[pd.notnull(dtf[\"forecast\"])].index[0]\n",
        "    first_loc = dtf.index.tolist().index(first_idx)\n",
        "    zoom_idx = dtf.index[first_loc-zoom]\n",
        "    dtf.loc[zoom_idx:][\"ts\"].plot(marker=\".\", linestyle='None', ax=ax[1], color=\"black\", \n",
        "                                  title=\"Zoom on the last \"+str(zoom)+\" observations\")\n",
        "    dtf.loc[zoom_idx:][\"model\"].plot(ax=ax[1], color=\"green\")\n",
        "    dtf.loc[zoom_idx:][\"forecast\"].plot(ax=ax[1], grid=True, color=\"red\")\n",
        "    ax[1].fill_between(x=dtf.loc[zoom_idx:].index, y1=dtf.loc[zoom_idx:]['conf_int_low'], \n",
        "                       y2=dtf.loc[zoom_idx:]['conf_int_up'], color='b', alpha=0.3)\n",
        "    plt.show()\n",
        "    \n",
        "    return dtf[[\"ts\",\"model\",\"residuals\",\"conf_int_low\",\"forecast\",\"conf_int_up\"]]"
      ],
      "execution_count": null,
      "outputs": []
    },
    {
      "cell_type": "code",
      "metadata": {
        "id": "f7xGuHg_jVgZ",
        "colab_type": "code",
        "colab": {}
      },
      "source": [
        "'''\n",
        "Forecast unknown future.\n",
        ":parameter\n",
        "    :param ts: pandas series\n",
        "    :param f: function\n",
        "    :param model: list of optim params\n",
        "    :param pred_ahead: number of observations to forecast (ex. pred_ahead=30)\n",
        "    :param freq: None or str - 'B' business day, 'D' daily, 'W' weekly, 'M' monthly, 'A' annual, 'Q' quarterly\n",
        "    :param zoom: for plotting\n",
        "'''\n",
        "def forecast_curve(ts, f, model, pred_ahead=None, freq=\"D\", zoom=30, figsize=(15,5)):\n",
        "    ## fit\n",
        "    X = np.arange(len(ts))\n",
        "    fitted = f(X, model[0], model[1], model[2])\n",
        "    dtf = ts.to_frame(name=\"ts\")\n",
        "    dtf[\"model\"] = fitted\n",
        "    \n",
        "    ## index\n",
        "    index = pd.date_range(start='2020-06-17',periods=pred_ahead,freq=freq)\n",
        "    index = index[1:]\n",
        "    ## forecast\n",
        "    Xnew = np.arange(len(ts)+1, len(ts)+1+len(index))\n",
        "    preds = f(Xnew, model[0], model[1], model[2])\n",
        "    dtf = dtf.append(pd.DataFrame(data=preds, index=index, columns=[\"forecast\"]))\n",
        "    \n",
        "    ## plot\n",
        "    utils_plot_parametric(dtf, zoom=zoom)\n",
        "    return dtf"
      ],
      "execution_count": null,
      "outputs": []
    },
    {
      "cell_type": "code",
      "metadata": {
        "id": "aVOLr8qvjcxl",
        "colab_type": "code",
        "colab": {
          "base_uri": "https://localhost:8080/",
          "height": 336
        },
        "outputId": "14353ab8-04a4-425e-b228-50bca18d77e4"
      },
      "source": [
        "preds = forecast_curve(dtf[\"total\"], logistic_f, logistic_model, \n",
        "                       pred_ahead=30, freq=\"D\", zoom=7)"
      ],
      "execution_count": null,
      "outputs": [
        {
          "output_type": "display_data",
          "data": {
            "image/png": "[encoded data removed]",
            "text/plain": [
              "<Figure size 1080x360 with 2 Axes>"
            ]
          },
          "metadata": {
            "tags": [],
            "needs_background": "light"
          }
        }
      ]
    },
    {
      "cell_type": "code",
      "metadata": {
        "id": "53wUhtE3tN0q",
        "colab_type": "code",
        "colab": {
          "base_uri": "https://localhost:8080/",
          "height": 336
        },
        "outputId": "fdcfbf04-88f5-4e71-94b0-f696317c1070"
      },
      "source": [
        "## Forecast\n",
        "preds = forecast_curve(dtf[\"new\"], gaussian_f, gaussian_model, pred_ahead=30,freq=\"D\", zoom=7, figsize=(15,5))"
      ],
      "execution_count": null,
      "outputs": [
        {
          "output_type": "display_data",
          "data": {
            "image/png": "[encoded data removed]",
            "text/plain": [
              "<Figure size 1080x360 with 2 Axes>"
            ]
          },
          "metadata": {
            "tags": [],
            "needs_background": "light"
          }
        }
      ]
    },
    {
      "cell_type": "markdown",
      "metadata": {
        "id": "8SPSbbxWJuf6",
        "colab_type": "text"
      },
      "source": [
        "For some reason we are not getting good fit with gaussian function, I guess it's just the matter of parameter scaling."
      ]
    },
    {
      "cell_type": "markdown",
      "metadata": {
        "id": "LsacqXcFJ6hC",
        "colab_type": "text"
      },
      "source": [
        "Trying with lmfit, if we can get the results."
      ]
    },
    {
      "cell_type": "code",
      "metadata": {
        "id": "zogj3etxEwib",
        "colab_type": "code",
        "colab": {
          "base_uri": "https://localhost:8080/",
          "height": 411
        },
        "outputId": "e3ef643e-3d60-42b7-b5c3-9c9349d6b57d"
      },
      "source": [
        "!pip install lmfit"
      ],
      "execution_count": null,
      "outputs": [
        {
          "output_type": "stream",
          "text": [
            "Collecting lmfit\n",
            "\u001b[?25l  Downloading https://files.pythonhosted.org/packages/d1/2e/9e4cdcebf93603ce57bc7577707ad56ed1282ae306f611e525612b9cfeea/lmfit-1.0.1.tar.gz (258kB)\n",
            "\u001b[K     |████████████████████████████████| 266kB 2.8MB/s \n",
            "\u001b[?25hCollecting asteval>=0.9.16\n",
            "\u001b[?25l  Downloading https://files.pythonhosted.org/packages/e4/3b/8aaee90977588fa3e88d7a495af306d6f4a1c1c01c8f0fe0de1fc43d0908/asteval-0.9.18.tar.gz (52kB)\n",
            "\u001b[K     |████████████████████████████████| 61kB 6.3MB/s \n",
            "\u001b[?25hRequirement already satisfied: numpy>=1.16 in /usr/local/lib/python3.6/dist-packages (from lmfit) (1.18.5)\n",
            "Requirement already satisfied: scipy>=1.2 in /usr/local/lib/python3.6/dist-packages (from lmfit) (1.4.1)\n",
            "Collecting uncertainties>=3.0.1\n",
            "\u001b[?25l  Downloading https://files.pythonhosted.org/packages/b0/e0/fc200da8190729dcb685ae4877ed6936d31d64aeccb8cc355d9ec982681d/uncertainties-3.1.4-py2.py3-none-any.whl (246kB)\n",
            "\u001b[K     |████████████████████████████████| 256kB 9.0MB/s \n",
            "\u001b[?25hRequirement already satisfied: future in /usr/local/lib/python3.6/dist-packages (from uncertainties>=3.0.1->lmfit) (0.16.0)\n",
            "Building wheels for collected packages: lmfit, asteval\n",
            "  Building wheel for lmfit (setup.py) ... \u001b[?25l\u001b[?25hdone\n",
            "  Created wheel for lmfit: filename=lmfit-1.0.1-cp36-none-any.whl size=81990 sha256=f093c207d1a114ced7dbfdc7bf1be959c27dcab0729ddc11cd1cb7110543ad4b\n",
            "  Stored in directory: /root/.cache/pip/wheels/ef/22/8d/6cd9c0af36f501cfb248673b05dad5d2c27504951d55519acb\n",
            "  Building wheel for asteval (setup.py) ... \u001b[?25l\u001b[?25hdone\n",
            "  Created wheel for asteval: filename=asteval-0.9.18-cp36-none-any.whl size=17381 sha256=7fa5a95208fde9175a8be459e9f48eab4213fed7d3956554aa0beb89c3d9e956\n",
            "  Stored in directory: /root/.cache/pip/wheels/1c/53/1b/28d929700c9633b1786a4982e6db564ec8326a8930234dcc19\n",
            "Successfully built lmfit asteval\n",
            "Installing collected packages: asteval, uncertainties, lmfit\n",
            "Successfully installed asteval-0.9.18 lmfit-1.0.1 uncertainties-3.1.4\n"
          ],
          "name": "stdout"
        }
      ]
    },
    {
      "cell_type": "code",
      "metadata": {
        "id": "BlSj3S_vD8gu",
        "colab_type": "code",
        "colab": {
          "base_uri": "https://localhost:8080/",
          "height": 588
        },
        "outputId": "99aa63b9-9fa0-459a-8c25-39591eaf4fdb"
      },
      "source": [
        "from lmfit import Model\n",
        "import math\n",
        "def gaussian(x, amp, cen, wid):\n",
        "    \"\"\"1-d gaussian: gaussian(x, amp, cen, wid)\"\"\"\n",
        "    return (amp / (math.sqrt(2*math.pi) * wid)) * np.exp(-(x-cen)**2 / (2*wid**2))\n",
        "\n",
        "\n",
        "gmodel = Model(gaussian)\n",
        "result = gmodel.fit(y1, x=X1, amp=1, cen=np.mean(dtf[\"new\"]), wid=1)\n",
        "\n",
        "print(result.fit_report())\n",
        "\n",
        "plt.plot(X1, y1, 'bo')\n",
        "plt.plot(X1, result.init_fit, 'k--', label='initial fit')\n",
        "plt.plot(X1, result.best_fit, 'r-', label='best fit')\n",
        "plt.legend(loc='best')\n",
        "plt.show()\n",
        "# <end examples/doc_model_gaussian.py>"
      ],
      "execution_count": null,
      "outputs": [
        {
          "output_type": "stream",
          "text": [
            "[[Model]]\n",
            "    Model(gaussian)\n",
            "[[Fit Statistics]]\n",
            "    # fitting method   = leastsq\n",
            "    # function evals   = 4\n",
            "    # data points      = 149\n",
            "    # variables        = 3\n",
            "    chi-square         = 2.9719e+09\n",
            "    reduced chi-square = 20355151.4\n",
            "    Akaike info crit   = 2510.46723\n",
            "    Bayesian info crit = 2519.47907\n",
            "##  Warning: uncertainties could not be estimated:\n",
            "    amp:  at initial value\n",
            "    cen:  at initial value\n",
            "    wid:  at initial value\n",
            "[[Variables]]\n",
            "    amp:  1.00000000 (init = 1)\n",
            "    cen:  2553.90604 (init = 2553.906)\n",
            "    wid:  1.00000000 (init = 1)\n"
          ],
          "name": "stdout"
        },
        {
          "output_type": "display_data",
          "data": {
            "image/png": "[encoded data removed]",
            "text/plain": [
              "<Figure size 432x288 with 1 Axes>"
            ]
          },
          "metadata": {
            "tags": [],
            "needs_background": "light"
          }
        }
      ]
    },
    {
      "cell_type": "markdown",
      "metadata": {
        "id": "Z3NABTGQw4yv",
        "colab_type": "text"
      },
      "source": [
        "This happening because, data has not taken gaussian shape yet,so curve_fit as well lmfit may not be able to fit properly."
      ]
    }
  ]
}